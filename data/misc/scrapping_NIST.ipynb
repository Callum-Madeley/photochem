{
 "cells": [
  {
   "cell_type": "code",
   "execution_count": 1,
   "metadata": {},
   "outputs": [],
   "source": [
    "from requests import get\n",
    "from bs4 import BeautifulSoup\n",
    "from scipy.optimize import minimize\n",
    "import numpy as np\n",
    "from matplotlib import pyplot as plt\n",
    "from collections import OrderedDict"
   ]
  },
  {
   "cell_type": "code",
   "execution_count": 2,
   "metadata": {},
   "outputs": [],
   "source": [
    "import yaml\n",
    "\n",
    "try:\n",
    "    from yaml import CLoader as Loader, CDumper as Dumper\n",
    "except ImportError:\n",
    "    from yaml import Loader, Dumper\n",
    "\n",
    "class flowmap( dict ): pass\n",
    "def flowmap_rep(dumper, data):\n",
    "    return dumper.represent_mapping( u'tag:yaml.org,2002:map', data, flow_style=True)\n",
    "\n",
    "class blockseqtrue( list ): pass\n",
    "def blockseqtrue_rep(dumper, data):\n",
    "    return dumper.represent_sequence( u'tag:yaml.org,2002:seq', data, flow_style=True )\n",
    "\n",
    "yaml.add_representer(blockseqtrue, blockseqtrue_rep)\n",
    "yaml.add_representer(flowmap, flowmap_rep)\n",
    "\n",
    "class MyDumper(yaml.Dumper):\n",
    "    def write_line_break(self, data=None):\n",
    "        super().write_line_break(data)\n",
    "        if len(self.indents) == 1:\n",
    "            super().write_line_break()"
   ]
  },
  {
   "cell_type": "code",
   "execution_count": 3,
   "metadata": {},
   "outputs": [],
   "source": [
    "def get_response(url):\n",
    "    return get(url).content"
   ]
  },
  {
   "cell_type": "code",
   "execution_count": 4,
   "metadata": {},
   "outputs": [],
   "source": [
    "def get_html_table(Name):\n",
    "\n",
    "    # We treat the url attaching the Name variable to it.\n",
    "    url = str.format('https://webbook.nist.gov/cgi/cbook.cgi?Name={0}&Mask=4',\n",
    "        Name.lower())\n",
    "\n",
    "    # Function to get the request made, see above.\n",
    "    raw_html = get_response(url)\n",
    "\n",
    "    # Parse the html using BeautifulSoup.\n",
    "    html = BeautifulSoup(raw_html, 'html.parser')\n",
    "\n",
    "    # Extract the table that contains the data, the table has a specific\n",
    "    # attributes 'aria-label' as 'Antoine Equation Parameters'.\n",
    "    table = html.find('table', attrs={'aria-label': 'Antoine Equation Parameters'})\n",
    "\n",
    "    return table"
   ]
  },
  {
   "cell_type": "code",
   "execution_count": 9,
   "metadata": {},
   "outputs": [],
   "source": [
    "Name = \"CH4\"\n"
   ]
  },
  {
   "cell_type": "code",
   "execution_count": 14,
   "metadata": {},
   "outputs": [],
   "source": []
  },
  {
   "cell_type": "code",
   "execution_count": 14,
   "metadata": {},
   "outputs": [],
   "source": [
    "def nist_thermo(Name):\n",
    "    url = str.format('https://webbook.nist.gov/cgi/cbook.cgi?Formula={0}&Mask=1#Thermo-Gas',\n",
    "            Name.lower())\n",
    "    raw_html = get_response(url)\n",
    "    html = BeautifulSoup(raw_html, 'html.parser')\n",
    "    if \"Name Not Found\" in html.text:\n",
    "        raise Exception('Did not find it')\n",
    "    \n",
    "    if 'Click on the name to see more data' in html.text:\n",
    "        lst = html.find_all('ol')[0].find_all('li')\n",
    "        ii = -1\n",
    "        for i in range(len(lst)):\n",
    "            ind = lst[i].text.index('(')\n",
    "            if lst[i].text[ind:].replace('(','').replace(')','').strip() == Name:\n",
    "                ii = i\n",
    "\n",
    "                break\n",
    "        if ii == -1:\n",
    "            raise Exception('Did not find it')\n",
    "        new_url = \"https://webbook.nist.gov\"+lst[ii].find_all('a')[0]['href']\n",
    "        raw_html = get_response(new_url)\n",
    "        html = BeautifulSoup(raw_html, 'html.parser')\n",
    "    \n",
    "    table = html.find('table', attrs={'aria-label': 'Gas Phase Heat Capacity (Shomate Equation)'})\n",
    "    order = ['Temperature (K)','A','B','C','D','E','F','G','H','Reference','Comment']\n",
    "    p_labels = ['A','B','C','D','E','F','G','H']\n",
    "\n",
    "    for i in range(len(order)):\n",
    "        assert table.find_all('tr')[i].find_all('th')[0].text == order[i]\n",
    "\n",
    "    ncol = len(table.find_all('tr')[0].find_all('td'))\n",
    "\n",
    "    Tlow = []\n",
    "    Thigh = []\n",
    "    for j in range(ncol):\n",
    "        tmp = table.find_all('tr')[0].find_all('td')[j].text\n",
    "        low = float(tmp.replace(' ','').split('-')[0])\n",
    "        high = float(tmp.replace(' ','').split('-')[1])\n",
    "        Tlow.append(low)\n",
    "        Thigh.append(high)\n",
    "\n",
    "    Tranges = []\n",
    "    for i in range(len(Tlow)+1):\n",
    "        if i == 0:\n",
    "            Tranges.append(Tlow[i])\n",
    "        elif i == len(Tlow):\n",
    "            Tranges.append(Thigh[-1])\n",
    "        else:\n",
    "            assert Tlow[i] == Thigh[i-1]\n",
    "            Tranges.append(Tlow[i])\n",
    "\n",
    "    params = []\n",
    "    for j in range(ncol):\n",
    "        temp = []\n",
    "        for i in range(len(p_labels)):\n",
    "            temp.append(float(table.find_all('tr')[i+1].find_all('td')[j].text))\n",
    "        params.append(temp)\n",
    "    out = {}\n",
    "    out['model'] = 'Shomate'\n",
    "    out['temperature-ranges'] = Tranges\n",
    "    out['data'] = params\n",
    "    return out"
   ]
  },
  {
   "cell_type": "code",
   "execution_count": 16,
   "metadata": {},
   "outputs": [
    {
     "ename": "Exception",
     "evalue": "Did not find it",
     "output_type": "error",
     "traceback": [
      "\u001b[0;31m---------------------------------------------------------------------------\u001b[0m",
      "\u001b[0;31mException\u001b[0m                                 Traceback (most recent call last)",
      "\u001b[0;32m<ipython-input-16-a355cf4c4535>\u001b[0m in \u001b[0;36m<module>\u001b[0;34m\u001b[0m\n\u001b[1;32m      1\u001b[0m \u001b[0mName\u001b[0m \u001b[0;34m=\u001b[0m \u001b[0;34m'HCN'\u001b[0m\u001b[0;34m\u001b[0m\u001b[0;34m\u001b[0m\u001b[0m\n\u001b[0;32m----> 2\u001b[0;31m \u001b[0mnist_thermo\u001b[0m\u001b[0;34m(\u001b[0m\u001b[0mName\u001b[0m\u001b[0;34m)\u001b[0m\u001b[0;34m\u001b[0m\u001b[0;34m\u001b[0m\u001b[0m\n\u001b[0m",
      "\u001b[0;32m<ipython-input-14-7a2b98a62889>\u001b[0m in \u001b[0;36mnist_thermo\u001b[0;34m(Name)\u001b[0m\n\u001b[1;32m     17\u001b[0m                 \u001b[0;32mbreak\u001b[0m\u001b[0;34m\u001b[0m\u001b[0;34m\u001b[0m\u001b[0m\n\u001b[1;32m     18\u001b[0m         \u001b[0;32mif\u001b[0m \u001b[0mii\u001b[0m \u001b[0;34m==\u001b[0m \u001b[0;34m-\u001b[0m\u001b[0;36m1\u001b[0m\u001b[0;34m:\u001b[0m\u001b[0;34m\u001b[0m\u001b[0;34m\u001b[0m\u001b[0m\n\u001b[0;32m---> 19\u001b[0;31m             \u001b[0;32mraise\u001b[0m \u001b[0mException\u001b[0m\u001b[0;34m(\u001b[0m\u001b[0;34m'Did not find it'\u001b[0m\u001b[0;34m)\u001b[0m\u001b[0;34m\u001b[0m\u001b[0;34m\u001b[0m\u001b[0m\n\u001b[0m\u001b[1;32m     20\u001b[0m         \u001b[0mnew_url\u001b[0m \u001b[0;34m=\u001b[0m \u001b[0;34m\"https://webbook.nist.gov\"\u001b[0m\u001b[0;34m+\u001b[0m\u001b[0mlst\u001b[0m\u001b[0;34m[\u001b[0m\u001b[0mii\u001b[0m\u001b[0;34m]\u001b[0m\u001b[0;34m.\u001b[0m\u001b[0mfind_all\u001b[0m\u001b[0;34m(\u001b[0m\u001b[0;34m'a'\u001b[0m\u001b[0;34m)\u001b[0m\u001b[0;34m[\u001b[0m\u001b[0;36m0\u001b[0m\u001b[0;34m]\u001b[0m\u001b[0;34m[\u001b[0m\u001b[0;34m'href'\u001b[0m\u001b[0;34m]\u001b[0m\u001b[0;34m\u001b[0m\u001b[0;34m\u001b[0m\u001b[0m\n\u001b[1;32m     21\u001b[0m         \u001b[0mraw_html\u001b[0m \u001b[0;34m=\u001b[0m \u001b[0mget_response\u001b[0m\u001b[0;34m(\u001b[0m\u001b[0mnew_url\u001b[0m\u001b[0;34m)\u001b[0m\u001b[0;34m\u001b[0m\u001b[0;34m\u001b[0m\u001b[0m\n",
      "\u001b[0;31mException\u001b[0m: Did not find it"
     ]
    }
   ],
   "source": [
    "Name = 'HCN'\n",
    "nist_thermo(Name)"
   ]
  },
  {
   "cell_type": "code",
   "execution_count": 189,
   "metadata": {},
   "outputs": [],
   "source": []
  },
  {
   "cell_type": "code",
   "execution_count": 181,
   "metadata": {},
   "outputs": [
    {
     "data": {
      "text/plain": [
       "'https://webbook.nist.gov/cgi/cbook.cgi?ID=C3315375&Units=SI&Mask=1'"
      ]
     },
     "execution_count": 181,
     "metadata": {},
     "output_type": "execute_result"
    }
   ],
   "source": [
    "new_url"
   ]
  },
  {
   "cell_type": "code",
   "execution_count": 177,
   "metadata": {},
   "outputs": [],
   "source": []
  },
  {
   "cell_type": "code",
   "execution_count": 178,
   "metadata": {},
   "outputs": [
    {
     "data": {
      "text/plain": [
       "'https://webbook.nist.gov/cgi/cbook.cgi?ID=C3315375&Units=SI&Mask=1'"
      ]
     },
     "execution_count": 178,
     "metadata": {},
     "output_type": "execute_result"
    }
   ],
   "source": [
    "new_url"
   ]
  },
  {
   "cell_type": "code",
   "execution_count": 138,
   "metadata": {},
   "outputs": [
    {
     "data": {
      "text/plain": [
       "[<a href=\"/cgi/cbook.cgi?ID=C3315375&amp;Units=SI&amp;Mask=1\">Methylidyne</a>]"
      ]
     },
     "execution_count": 138,
     "metadata": {},
     "output_type": "execute_result"
    }
   ],
   "source": [
    "html.find_all('ol')[0].find_all('li')[0].find_all('a')"
   ]
  },
  {
   "cell_type": "code",
   "execution_count": 144,
   "metadata": {},
   "outputs": [
    {
     "data": {
      "text/plain": [
       "'(CH)'"
      ]
     },
     "execution_count": 144,
     "metadata": {},
     "output_type": "execute_result"
    }
   ],
   "source": [
    "\n",
    "    "
   ]
  },
  {
   "cell_type": "code",
   "execution_count": 18,
   "metadata": {},
   "outputs": [],
   "source": [
    "import cirpy\n",
    "cirpy.resolve('CH4', 'smiles')"
   ]
  },
  {
   "cell_type": "code",
   "execution_count": 22,
   "metadata": {},
   "outputs": [
    {
     "data": {
      "text/plain": [
       "['191234-22-7', '341972-31-4', '74-90-8']"
      ]
     },
     "execution_count": 22,
     "metadata": {},
     "output_type": "execute_result"
    }
   ],
   "source": [
    "cirpy.resolve('hydrogen cyanide', 'cas')"
   ]
  },
  {
   "cell_type": "code",
   "execution_count": null,
   "metadata": {},
   "outputs": [],
   "source": []
  },
  {
   "cell_type": "code",
   "execution_count": null,
   "metadata": {},
   "outputs": [],
   "source": []
  },
  {
   "cell_type": "code",
   "execution_count": 58,
   "metadata": {},
   "outputs": [],
   "source": [
    "tmp = table.find_all('tr')[0].find_all('td')[0].text"
   ]
  },
  {
   "cell_type": "code",
   "execution_count": 68,
   "metadata": {},
   "outputs": [],
   "source": [
    "low = float(tmp.replace(' ','').split('-')[0])\n",
    "high = float(tmp.replace(' ','').split('-')[1])"
   ]
  },
  {
   "cell_type": "code",
   "execution_count": 73,
   "metadata": {},
   "outputs": [
    {
     "data": {
      "text/plain": [
       "[1300.0, 6000.0]"
      ]
     },
     "execution_count": 73,
     "metadata": {},
     "output_type": "execute_result"
    }
   ],
   "source": [
    "Thigh"
   ]
  },
  {
   "cell_type": "code",
   "execution_count": null,
   "metadata": {},
   "outputs": [],
   "source": []
  },
  {
   "cell_type": "code",
   "execution_count": null,
   "metadata": {},
   "outputs": [],
   "source": []
  },
  {
   "cell_type": "code",
   "execution_count": null,
   "metadata": {},
   "outputs": [],
   "source": []
  },
  {
   "cell_type": "code",
   "execution_count": null,
   "metadata": {},
   "outputs": [],
   "source": []
  },
  {
   "cell_type": "code",
   "execution_count": 5,
   "metadata": {},
   "outputs": [],
   "source": [
    "def get_antoine_coef(Name):\n",
    "    # Obtaining the table using the get_html function showed below. Table is a\n",
    "    # BeautifulSoup Object.\n",
    "    table = get_html_table(Name)\n",
    "\n",
    "    # Extract the rows from the table. Knowing what tags have an HTML table.\n",
    "    # Also, knowing that the fist row with he table header does not have the\n",
    "    # class attribute 'exp' so we obtain just the rows with data.\n",
    "    # The find_all function from BeautifulSoup return a list\n",
    "    rows = table.find_all('tr', class_='exp')\n",
    "\n",
    "    # Declaring the lists for storage Temperatures, and coefficients.\n",
    "    Temperatures, As, Bs, Cs = [], [], [], []\n",
    "\n",
    "    # Looping over rows to extract and fill As, Bs, and Cs variables because now\n",
    "    # we are sure the Temperatues is between some range.\n",
    "    for row in rows:\n",
    "\n",
    "        # As the rows, we extract the columns for the current row. Knowing that\n",
    "        # the cols have the <td> tag in HTML as well\n",
    "        # The find_all function from BeautifulSoup return a list\n",
    "        cols =  row.find_all('td')\n",
    "\n",
    "        # First transform the strings into float numbers and put them in their\n",
    "        # respective list\n",
    "        As.append(float(cols[1].text))\n",
    "        Bs.append(float(cols[2].text))\n",
    "        Cs.append(float(cols[3].text))\n",
    "\n",
    "        # For the temperatures, we have a range and we need to extract each\n",
    "        # limit (lower and higher) and put them in an extra list. So\n",
    "        # Temperatures variable will be a list of lists.\n",
    "        lower_lim = float(cols[0].text.replace(\" \",\"\").split('-')[0])\n",
    "        higher_lim = float(cols[0].text.replace(\" \",\"\").split('-')[1])\n",
    "        Temperatures.append([lower_lim, higher_lim])\n",
    "\n",
    "        return As,Bs,Cs,Temperatures"
   ]
  },
  {
   "cell_type": "code",
   "execution_count": 12,
   "metadata": {},
   "outputs": [],
   "source": [
    "fil = open('../reaction_mechanisms/zahnle_earth.yaml','r')\n",
    "zahnle = yaml.load(fil,Loader=Loader)\n",
    "fil.close()"
   ]
  },
  {
   "cell_type": "code",
   "execution_count": 13,
   "metadata": {},
   "outputs": [],
   "source": [
    "comp = {}\n",
    "for i in range(len(zahnle['species'])):\n",
    "    comp[zahnle['species'][i]['name']] = zahnle['species'][i]['composition']"
   ]
  },
  {
   "cell_type": "code",
   "execution_count": 56,
   "metadata": {},
   "outputs": [
    {
     "name": "stdout",
     "output_type": "stream",
     "text": [
      "CH\n",
      "CH2\n",
      "CH3\n",
      "CH4\n",
      "HCN\n",
      "C2H\n",
      "C2H2\n",
      "C2H4\n",
      "C2H6\n",
      "C3H4\n",
      "C3H6\n",
      "C4H2\n",
      "C4H4\n",
      "HCS\n",
      "C2H3\n",
      "C2H5\n",
      "1CH2\n",
      "H2CN\n",
      "C4H\n",
      "C4H3\n",
      "CH2N2\n",
      "CH2CN\n",
      "CH3CN\n",
      "HCCCN\n"
     ]
    }
   ],
   "source": [
    "for i in range(len(zahnle['species'])):\n",
    "    if 'C' in zahnle['species'][i]['name'] \\\n",
    "    and \"H\" in zahnle['species'][i]['name'] \\\n",
    "    and not 'Cl' in zahnle['species'][i]['name'] \\\n",
    "    and not 'O' in zahnle['species'][i]['name']:\n",
    "        print(zahnle['species'][i]['name'])"
   ]
  },
  {
   "cell_type": "code",
   "execution_count": null,
   "metadata": {},
   "outputs": [],
   "source": []
  },
  {
   "cell_type": "code",
   "execution_count": 6,
   "metadata": {},
   "outputs": [
    {
     "ename": "AttributeError",
     "evalue": "'NoneType' object has no attribute 'find_all'",
     "output_type": "error",
     "traceback": [
      "\u001b[0;31m---------------------------------------------------------------------------\u001b[0m",
      "\u001b[0;31mAttributeError\u001b[0m                            Traceback (most recent call last)",
      "\u001b[0;32m<ipython-input-6-754d70567944>\u001b[0m in \u001b[0;36m<module>\u001b[0;34m\u001b[0m\n\u001b[1;32m      1\u001b[0m \u001b[0mname\u001b[0m \u001b[0;34m=\u001b[0m \u001b[0;34m'OCS'\u001b[0m\u001b[0;34m\u001b[0m\u001b[0;34m\u001b[0m\u001b[0m\n\u001b[0;32m----> 2\u001b[0;31m \u001b[0mAs\u001b[0m\u001b[0;34m,\u001b[0m\u001b[0mBs\u001b[0m\u001b[0;34m,\u001b[0m\u001b[0mCs\u001b[0m\u001b[0;34m,\u001b[0m\u001b[0mTs\u001b[0m \u001b[0;34m=\u001b[0m \u001b[0mget_antoine_coef\u001b[0m\u001b[0;34m(\u001b[0m\u001b[0mname\u001b[0m\u001b[0;34m)\u001b[0m\u001b[0;34m\u001b[0m\u001b[0;34m\u001b[0m\u001b[0m\n\u001b[0m\u001b[1;32m      3\u001b[0m \u001b[0mcomp\u001b[0m\u001b[0;34m[\u001b[0m\u001b[0mname\u001b[0m\u001b[0;34m]\u001b[0m\u001b[0;34m\u001b[0m\u001b[0;34m\u001b[0m\u001b[0m\n",
      "\u001b[0;32m<ipython-input-5-274f8c9ba4c2>\u001b[0m in \u001b[0;36mget_antoine_coef\u001b[0;34m(Name)\u001b[0m\n\u001b[1;32m      8\u001b[0m     \u001b[0;31m# class attribute 'exp' so we obtain just the rows with data.\u001b[0m\u001b[0;34m\u001b[0m\u001b[0;34m\u001b[0m\u001b[0;34m\u001b[0m\u001b[0m\n\u001b[1;32m      9\u001b[0m     \u001b[0;31m# The find_all function from BeautifulSoup return a list\u001b[0m\u001b[0;34m\u001b[0m\u001b[0;34m\u001b[0m\u001b[0;34m\u001b[0m\u001b[0m\n\u001b[0;32m---> 10\u001b[0;31m     \u001b[0mrows\u001b[0m \u001b[0;34m=\u001b[0m \u001b[0mtable\u001b[0m\u001b[0;34m.\u001b[0m\u001b[0mfind_all\u001b[0m\u001b[0;34m(\u001b[0m\u001b[0;34m'tr'\u001b[0m\u001b[0;34m,\u001b[0m \u001b[0mclass_\u001b[0m\u001b[0;34m=\u001b[0m\u001b[0;34m'exp'\u001b[0m\u001b[0;34m)\u001b[0m\u001b[0;34m\u001b[0m\u001b[0;34m\u001b[0m\u001b[0m\n\u001b[0m\u001b[1;32m     11\u001b[0m \u001b[0;34m\u001b[0m\u001b[0m\n\u001b[1;32m     12\u001b[0m     \u001b[0;31m# Declaring the lists for storage Temperatures, and coefficients.\u001b[0m\u001b[0;34m\u001b[0m\u001b[0;34m\u001b[0m\u001b[0;34m\u001b[0m\u001b[0m\n",
      "\u001b[0;31mAttributeError\u001b[0m: 'NoneType' object has no attribute 'find_all'"
     ]
    }
   ],
   "source": [
    "name = 'OCS'\n",
    "As,Bs,Cs,Ts = get_antoine_coef(name)\n",
    "comp[name]"
   ]
  },
  {
   "cell_type": "code",
   "execution_count": 119,
   "metadata": {},
   "outputs": [
    {
     "data": {
      "text/plain": [
       "[[90.99, 189.99]]"
      ]
     },
     "execution_count": 119,
     "metadata": {},
     "output_type": "execute_result"
    }
   ],
   "source": [
    "Ts"
   ]
  },
  {
   "cell_type": "code",
   "execution_count": 120,
   "metadata": {},
   "outputs": [],
   "source": [
    "i = 0\n",
    "Aa = As[i]\n",
    "Ba = Bs[i]\n",
    "Ca = Cs[i]"
   ]
  },
  {
   "cell_type": "code",
   "execution_count": 121,
   "metadata": {},
   "outputs": [],
   "source": [
    "T = np.linspace(70,300,100)\n",
    "\n",
    "def antoine(A,B,C,T):\n",
    "    return 10**(A - B/(C+T))\n",
    "\n",
    "def sat(A,B,C,T):\n",
    "    return np.exp(A + B/T + C/T**2)\n",
    "\n",
    "def objective(x):\n",
    "    A,B,C = x\n",
    "    return np.linalg.norm(np.log10(antoine(Aa,Ba,Ca,T)) - np.log10(sat(A,B,C,T)))\n",
    "\n",
    "sol = minimize(objective,[9,-1,1])\n",
    "A,B,C = sol.x\n",
    "# sol"
   ]
  },
  {
   "cell_type": "code",
   "execution_count": 122,
   "metadata": {},
   "outputs": [
    {
     "data": {
      "image/png": "[encoded data removed]",
      "text/plain": [
       "<Figure size 504x360 with 1 Axes>"
      ]
     },
     "metadata": {
      "needs_background": "light"
     },
     "output_type": "display_data"
    }
   ],
   "source": [
    "plt.rcParams.update({'font.size': 12})\n",
    "fig,ax = plt.subplots(1,1,figsize=[7,5])\n",
    "\n",
    "ax.plot(T,antoine(Aa,Ba,Ca,T))\n",
    "\n",
    "ax.plot(T,sat(A,B,C,T),'--')\n",
    "\n",
    "ax.set_yscale('log')"
   ]
  },
  {
   "cell_type": "code",
   "execution_count": null,
   "metadata": {},
   "outputs": [],
   "source": []
  },
  {
   "cell_type": "code",
   "execution_count": 116,
   "metadata": {},
   "outputs": [],
   "source": [
    "res = {}\n",
    "res['name'] = name+'aer'\n",
    "res['formation'] = \"saturation\"\n",
    "res['density'] = 1\n",
    "res['gas-phase'] = name\n",
    "res['saturation-parameters'] = {\"A\":float('%.2e'%A),\"B\":float('%.2e'%B),\"C\":float('%.2e'%C)}\n",
    "res['composition'] = comp[name]\n",
    "res['optical-properties'] = \"khare1984\"\n",
    "res['optical-type'] = 'mie'\n",
    "\n",
    "res['saturation-parameters'] = flowmap(res['saturation-parameters'])\n",
    "res['composition'] = flowmap(res['composition'])\n",
    "\n"
   ]
  },
  {
   "cell_type": "code",
   "execution_count": null,
   "metadata": {},
   "outputs": [],
   "source": []
  },
  {
   "cell_type": "code",
   "execution_count": 117,
   "metadata": {},
   "outputs": [],
   "source": [
    "\n",
    "fil = open('saturation_data.yaml','r')\n",
    "data = yaml.load(fil,Loader=Loader)\n",
    "fil.close()\n",
    "\n",
    "\n",
    "\n",
    "data.append(res)\n",
    "for i in range(len(data)):\n",
    "    data[i]['saturation-parameters'] = flowmap(data[i]['saturation-parameters'])\n",
    "    data[i]['composition'] = flowmap(data[i]['composition'])\n",
    "\n",
    "# data = [res]\n",
    "fil = open('saturation_data.yaml','w')\n",
    "yaml.dump(data,fil,Dumper=MyDumper,sort_keys=False,width=70)\n",
    "fil.close()\n"
   ]
  },
  {
   "cell_type": "code",
   "execution_count": null,
   "metadata": {},
   "outputs": [],
   "source": []
  },
  {
   "cell_type": "code",
   "execution_count": null,
   "metadata": {},
   "outputs": [],
   "source": []
  },
  {
   "cell_type": "code",
   "execution_count": null,
   "metadata": {},
   "outputs": [],
   "source": []
  },
  {
   "cell_type": "code",
   "execution_count": null,
   "metadata": {},
   "outputs": [],
   "source": []
  },
  {
   "cell_type": "code",
   "execution_count": 19,
   "metadata": {},
   "outputs": [
    {
     "data": {
      "text/plain": [
       "[[214.64, 308.33], [192.59, 206.3]]"
      ]
     },
     "execution_count": 19,
     "metadata": {},
     "output_type": "execute_result"
    }
   ],
   "source": [
    "Temperatures"
   ]
  },
  {
   "cell_type": "code",
   "execution_count": 20,
   "metadata": {},
   "outputs": [
    {
     "data": {
      "text/plain": [
       "[4.66141, 4.19598]"
      ]
     },
     "execution_count": 20,
     "metadata": {},
     "output_type": "execute_result"
    }
   ],
   "source": [
    "As"
   ]
  },
  {
   "cell_type": "code",
   "execution_count": 21,
   "metadata": {},
   "outputs": [
    {
     "data": {
      "text/plain": [
       "[909.079, 699.53]"
      ]
     },
     "execution_count": 21,
     "metadata": {},
     "output_type": "execute_result"
    }
   ],
   "source": [
    "Bs"
   ]
  },
  {
   "cell_type": "code",
   "execution_count": 22,
   "metadata": {},
   "outputs": [
    {
     "data": {
      "text/plain": [
       "[7.947, -21.47]"
      ]
     },
     "execution_count": 22,
     "metadata": {},
     "output_type": "execute_result"
    }
   ],
   "source": [
    "Cs"
   ]
  },
  {
   "cell_type": "code",
   "execution_count": null,
   "metadata": {},
   "outputs": [],
   "source": []
  }
 ],
 "metadata": {
  "kernelspec": {
   "display_name": "Python 3",
   "language": "python",
   "name": "python3"
  },
  "language_info": {
   "codemirror_mode": {
    "name": "ipython",
    "version": 3
   },
   "file_extension": ".py",
   "mimetype": "text/x-python",
   "name": "python",
   "nbconvert_exporter": "python",
   "pygments_lexer": "ipython3",
   "version": "3.8.5"
  }
 },
 "nbformat": 4,
 "nbformat_minor": 4
}
