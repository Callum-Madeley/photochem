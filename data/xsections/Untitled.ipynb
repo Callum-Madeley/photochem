{
 "cells": [
  {
   "cell_type": "code",
   "execution_count": 2,
   "metadata": {},
   "outputs": [],
   "source": [
    "import numpy as np\n",
    "from matplotlib import pyplot as plt\n",
    "import os\n",
    "from ruamel.yaml import YAML\n",
    "import ruamel\n",
    "ruamel.yaml.representer.RoundTripRepresenter.ignore_aliases = lambda x, y: True\n",
    "yaml = ruamel.yaml.YAML()"
   ]
  },
  {
   "cell_type": "code",
   "execution_count": null,
   "metadata": {},
   "outputs": [],
   "source": []
  },
  {
   "cell_type": "code",
   "execution_count": 3,
   "metadata": {},
   "outputs": [],
   "source": [
    "fil = open('photo_species_to_check.yaml','r')\n",
    "data = yaml.load(fil)\n",
    "fil.close()"
   ]
  },
  {
   "cell_type": "code",
   "execution_count": 6,
   "metadata": {},
   "outputs": [],
   "source": [
    "files = os.listdir(\"/Users/nicholas/Documents/Research_local/random/atmos/PHOTOCHEM/DATA/XSECTIONS\")\n",
    "species = files"
   ]
  },
  {
   "cell_type": "code",
   "execution_count": 4,
   "metadata": {},
   "outputs": [],
   "source": [
    "files = os.listdir('all_cross_sections_text_continuum_0.1nm')\n",
    "species = [sp.split('_')[0] for sp in files]"
   ]
  },
  {
   "cell_type": "code",
   "execution_count": 7,
   "metadata": {},
   "outputs": [
    {
     "data": {
      "text/plain": [
       "{'C2H3',\n",
       " 'C3H6',\n",
       " 'C4H4',\n",
       " 'CH',\n",
       " 'CH3',\n",
       " 'H2',\n",
       " 'H2CN',\n",
       " 'H2SO4',\n",
       " 'HNO2',\n",
       " 'NO3',\n",
       " 'OH'}"
      ]
     },
     "execution_count": 7,
     "metadata": {},
     "output_type": "execute_result"
    }
   ],
   "source": [
    "set(species).intersection(set(data))"
   ]
  },
  {
   "cell_type": "code",
   "execution_count": null,
   "metadata": {},
   "outputs": [],
   "source": [
    "folder = \"/Users/nicholas/Documents/Research_local/random/atmos/PHOTOCHEM/DATA/XSECTIONS\"\n",
    "sp = 'C4H4'\n",
    "\n",
    "\n"
   ]
  },
  {
   "cell_type": "code",
   "execution_count": null,
   "metadata": {},
   "outputs": [],
   "source": []
  },
  {
   "cell_type": "code",
   "execution_count": null,
   "metadata": {},
   "outputs": [],
   "source": []
  },
  {
   "cell_type": "code",
   "execution_count": 6,
   "metadata": {},
   "outputs": [],
   "source": [
    "sp = 'C2H'\n",
    "\n",
    "def xs_and_qy(sp):\n",
    "    fil = open('all_cross_sections_text_continuum_0.1nm/'+sp+'_0.1nm.txt')\n",
    "    lines = fil.readlines()\n",
    "    fil.close()\n",
    "\n",
    "    ind = np.nan\n",
    "    for i,line in enumerate(lines):\n",
    "        if \"# wavelength   photoabsorption\" in line:\n",
    "            ind = i\n",
    "            break\n",
    "\n",
    "    keys = lines[ind].split()[1:]\n",
    "    out = {}\n",
    "    for key in keys:\n",
    "        out[key] = []\n",
    "    for line in lines[ind+1:]:\n",
    "        dat = [float(a) for a in line.split()]\n",
    "        for i,key in enumerate(keys):\n",
    "            out[key].append(dat[i])\n",
    "\n",
    "    xs = np.array(out['photoabsorption'])\n",
    "    qy = []\n",
    "    for i in range(len(xs)):\n",
    "        if xs[i] == 0:\n",
    "            qy.append(0)\n",
    "        else:\n",
    "            qy.append(out['photodissociation'][i]/xs[i])\n",
    "    qy = np.array(qy)\n",
    "    return np.array(out['wavelength']), xs, qy "
   ]
  },
  {
   "cell_type": "code",
   "execution_count": 39,
   "metadata": {},
   "outputs": [],
   "source": []
  },
  {
   "cell_type": "code",
   "execution_count": 7,
   "metadata": {},
   "outputs": [],
   "source": [
    "fil = open('cross_section_properties.csv','r')\n",
    "lines = fil.readlines()\n",
    "fil.close()\n",
    "# keys = lines[18].split(',')\n",
    "out = {}\n",
    "for i,line in enumerate(lines[19:]):\n",
    "    species = line.split(',')[0].strip()\n",
    "    prod = line.split(',')[-1].strip()\n",
    "    out[species] = prod"
   ]
  },
  {
   "cell_type": "code",
   "execution_count": 8,
   "metadata": {},
   "outputs": [
    {
     "data": {
      "text/plain": [
       "'C2 + H'"
      ]
     },
     "execution_count": 8,
     "metadata": {},
     "output_type": "execute_result"
    }
   ],
   "source": [
    "out['C2H']"
   ]
  },
  {
   "cell_type": "code",
   "execution_count": 9,
   "metadata": {},
   "outputs": [],
   "source": [
    "species = 'C2H'\n",
    "reaction = 'C2H + hv => C2 + H'\n",
    "wv, xs, qy = xs_and_qy(species)"
   ]
  },
  {
   "cell_type": "code",
   "execution_count": null,
   "metadata": {},
   "outputs": [],
   "source": []
  },
  {
   "cell_type": "code",
   "execution_count": 10,
   "metadata": {},
   "outputs": [],
   "source": [
    "# os.mkdir(species)\n",
    "\n",
    "folder = species\n",
    "os.mkdir(folder)\n",
    "\n",
    "qy_file = reaction.replace(' ','_') + \".txt\"\n",
    "fil = open(folder+'/'+qy_file,'w')\n",
    "fmt = \"{:20}\"\n",
    "fil.write(qy_file+'\\n')\n",
    "fil.write(fmt.format('wavelength'))\n",
    "fil.write(fmt.format('300K'))\n",
    "fil.write('\\n')\n",
    "for i in range(len(wv)):\n",
    "    fil.write(fmt.format('%.8e'%wv[i]))\n",
    "    fil.write(fmt.format('%.8e'%qy[i]))\n",
    "    fil.write('\\n')\n",
    "fil.close()\n",
    "\n",
    "xs_file = species+\"_xs.txt\"\n",
    "fil = open(folder+'/'+xs_file,'w')\n",
    "fmt = \"{:20}\"\n",
    "fil.write(species+\" (wavelength = nm, xs = cm2/molecule)\"+'\\n')\n",
    "fil.write(fmt.format('wavelength'))\n",
    "fil.write(fmt.format('300K'))\n",
    "fil.write('\\n')\n",
    "for i in range(len(wv)):\n",
    "    fil.write(fmt.format('%.8e'%wv[i]))\n",
    "    fil.write(fmt.format('%.8e'%xs[i]))\n",
    "    fil.write('\\n')\n",
    "fil.close()"
   ]
  },
  {
   "cell_type": "code",
   "execution_count": 97,
   "metadata": {},
   "outputs": [],
   "source": [
    "citation = []\n",
    "citation.append({})\n",
    "citation[0]['nm-range'] = ('%.2f'%np.min(wv))+\" - \"+('%.2f'%np.max(wv))\n",
    "citation[0]['citation'] = 'Heays et al. (2016)'\n",
    "citation[0]['DOI'] = '10.1051/0004-6361/201628742'\n",
    "\n",
    "meta = {}\n",
    "meta[species] = {}\n",
    "meta[species]['reactions'] = {}\n",
    "meta[species]['reactions'][reaction] = {}\n",
    "meta[species]['reactions'][reaction]['citations'] = citation.copy()\n",
    "\n",
    "meta[species]['xsections'] ={}\n",
    "meta[species]['xsections']['citations'] = citation.copy()\n",
    "\n",
    "meta[species]['general-notes'] = None\n",
    "\n",
    "fil = open('tmp_meta.yaml','w')\n",
    "yaml.dump(meta,fil)\n",
    "fil.close()"
   ]
  },
  {
   "cell_type": "code",
   "execution_count": 94,
   "metadata": {},
   "outputs": [
    {
     "data": {
      "text/plain": [
       "'91.30 - 137.00'"
      ]
     },
     "execution_count": 94,
     "metadata": {},
     "output_type": "execute_result"
    }
   ],
   "source": []
  },
  {
   "cell_type": "code",
   "execution_count": 71,
   "metadata": {},
   "outputs": [],
   "source": []
  },
  {
   "cell_type": "code",
   "execution_count": null,
   "metadata": {},
   "outputs": [],
   "source": []
  },
  {
   "cell_type": "code",
   "execution_count": 67,
   "metadata": {},
   "outputs": [
    {
     "data": {
      "text/plain": [
       "'wavelength          '"
      ]
     },
     "execution_count": 67,
     "metadata": {},
     "output_type": "execute_result"
    }
   ],
   "source": [
    "\"{:20}\".format('wavelength')"
   ]
  },
  {
   "cell_type": "code",
   "execution_count": null,
   "metadata": {},
   "outputs": [],
   "source": []
  },
  {
   "cell_type": "code",
   "execution_count": 6,
   "metadata": {},
   "outputs": [],
   "source": [
    "directories = [a for a in os.listdir() if os.path.isdir(a) and a[0]!='.']\n",
    "directories2remove = ['__pycache__', \"Zahnle_Kevin_data\"]\n",
    "for directory in directories2remove:\n",
    "    try:\n",
    "        directories.remove(directory)\n",
    "    except:\n",
    "        pass"
   ]
  },
  {
   "cell_type": "code",
   "execution_count": 37,
   "metadata": {},
   "outputs": [],
   "source": [
    "metadata = {}\n",
    "\n",
    "phidrates = ['H2CO', 'O2', 'O3', 'SO2', 'NO']\n",
    "\n",
    "for directory in directories:\n",
    "    metadata[directory] = {}\n",
    "    metadata[directory]['reactions'] = {}\n",
    "    metadata[directory]['xsections'] = {}\n",
    "    metadata[directory]['general-notes'] = None\n",
    "    \n",
    "    files = os.listdir(directory)\n",
    "    \n",
    "    fil = open(directory+\"/\"+directory+'_xs.txt','r')\n",
    "    lines = fil.readlines()\n",
    "    fil.close()\n",
    "\n",
    "    min_wv = float(lines[2].split()[0])\n",
    "    max_wv = float(lines[-1].split()[0])\n",
    "    \n",
    "    if directory in phidrates:\n",
    "        citation = {}\n",
    "        citation['nm-range'] = str(min_wv)+' - '+str(max_wv)\n",
    "        citation['citation'] = 'Huebner and Mukherjee (2015)'\n",
    "        citation['DOI'] = '10.1016/j.pss.2014.11.022'\n",
    "    else:\n",
    "\n",
    "        citation = {}\n",
    "        citation['nm-range'] = str(min_wv)+' - '+str(max_wv)\n",
    "        citation['citation'] = 'Kevin Zahnle'\n",
    "        citation['DOI'] = None\n",
    "    \n",
    "    for file in files:\n",
    "        if 'xs' not in file:\n",
    "            reaction = ' '.join(file.replace('.txt','').split('_'))\n",
    "            metadata[directory]['reactions'][reaction] = {}\n",
    "            metadata[directory]['reactions'][reaction]['citations'] = [citation.copy()]\n",
    "            \n",
    "#             metadata[directory]['reactions'][reaction]['notes'] = None\n",
    "            \n",
    "    metadata[directory]['xsections']['citations'] = [citation.copy()]\n",
    "#     metadata[directory]['xsections']['notes'] = None"
   ]
  },
  {
   "cell_type": "code",
   "execution_count": 38,
   "metadata": {},
   "outputs": [],
   "source": [
    "fil = open('test.yaml','w')\n",
    "yaml.dump(metadata,fil)\n",
    "fil.close()\n",
    "\n",
    "fil = open('test.yaml','r')\n",
    "lines = fil.readlines()\n",
    "fil.close()\n",
    "\n",
    "lines_new = []\n",
    "for line in lines:\n",
    "    if line[0]!= ' ':\n",
    "        lines_new.append('\\n')\n",
    "        lines_new.append(line)\n",
    "    else:\n",
    "        lines_new.append(line)\n",
    "        \n",
    "fil = open('test.yaml','w')\n",
    "for line in lines_new:\n",
    "    fil.write(line)\n",
    "fil.close()"
   ]
  },
  {
   "cell_type": "code",
   "execution_count": 24,
   "metadata": {},
   "outputs": [
    {
     "data": {
      "text/plain": [
       "{'H2O + hv => OH + H': {'citations': [{'nm-range': '92.5 - 251.6',\n",
       "    'citation': 'Kevin Zahnle',\n",
       "    'DOI': None}],\n",
       "  'notes': None}}"
      ]
     },
     "execution_count": 24,
     "metadata": {},
     "output_type": "execute_result"
    }
   ],
   "source": [
    "metadata['H2O']['reactions']"
   ]
  },
  {
   "cell_type": "code",
   "execution_count": 17,
   "metadata": {},
   "outputs": [
    {
     "data": {
      "text/plain": [
       "{'nm-range': '92.5 - 251.6', 'citation': 'Kevin Zahnle', 'DOI': None}"
      ]
     },
     "execution_count": 17,
     "metadata": {},
     "output_type": "execute_result"
    }
   ],
   "source": [
    "citation"
   ]
  },
  {
   "cell_type": "code",
   "execution_count": null,
   "metadata": {},
   "outputs": [],
   "source": [
    "fil = open('Zahnle_Kevin_data/zahnle_earth_photos.yaml','r')\n",
    "rxs = yaml.load(fil)\n",
    "fil.close()"
   ]
  },
  {
   "cell_type": "code",
   "execution_count": null,
   "metadata": {},
   "outputs": [],
   "source": []
  },
  {
   "cell_type": "code",
   "execution_count": 8,
   "metadata": {},
   "outputs": [],
   "source": [
    "from PhotoData import phidrates, MPI_Mainz\n",
    "import numpy as np"
   ]
  },
  {
   "cell_type": "code",
   "execution_count": 33,
   "metadata": {},
   "outputs": [],
   "source": [
    "# phi = phidrates('C4H')"
   ]
  },
  {
   "cell_type": "code",
   "execution_count": 35,
   "metadata": {},
   "outputs": [
    {
     "ename": "SystemExit",
     "evalue": "Species not found in MPI-Mainz database",
     "output_type": "error",
     "traceback": [
      "An exception has occurred, use %tb to see the full traceback.\n",
      "\u001b[0;31mSystemExit\u001b[0m\u001b[0;31m:\u001b[0m Species not found in MPI-Mainz database\n"
     ]
    }
   ],
   "source": [
    "mpi = MPI_Mainz('C2H3')"
   ]
  },
  {
   "cell_type": "code",
   "execution_count": null,
   "metadata": {},
   "outputs": [],
   "source": []
  },
  {
   "cell_type": "code",
   "execution_count": null,
   "metadata": {},
   "outputs": [],
   "source": []
  },
  {
   "cell_type": "code",
   "execution_count": 12,
   "metadata": {},
   "outputs": [
    {
     "name": "stdout",
     "output_type": "stream",
     "text": [
      "6  files parsed\r"
     ]
    }
   ],
   "source": [
    "mpi.get_data()"
   ]
  },
  {
   "cell_type": "code",
   "execution_count": 25,
   "metadata": {},
   "outputs": [
    {
     "data": {
      "text/plain": [
       "295.0"
      ]
     },
     "execution_count": 25,
     "metadata": {},
     "output_type": "execute_result"
    }
   ],
   "source": [
    "mpi.all_data['temperature'][4]"
   ]
  },
  {
   "cell_type": "code",
   "execution_count": 19,
   "metadata": {},
   "outputs": [],
   "source": [
    "wv = mpi.all_data['wavelength'][4]\n",
    "xs = mpi.all_data['cross section'][4]\n"
   ]
  },
  {
   "cell_type": "code",
   "execution_count": 21,
   "metadata": {},
   "outputs": [],
   "source": [
    "species=\"C4H4\"\n",
    "folder = species\n",
    "os.mkdir(folder)"
   ]
  },
  {
   "cell_type": "code",
   "execution_count": 22,
   "metadata": {},
   "outputs": [],
   "source": [
    "xs_file = species+\"_xs.txt\"\n",
    "fil = open(folder+'/'+xs_file,'w')\n",
    "fmt = \"{:20}\"\n",
    "fil.write(species+\" (wavelength = nm, xs = cm2/molecule)\"+'\\n')\n",
    "fil.write(fmt.format('wavelength'))\n",
    "fil.write(fmt.format('300K'))\n",
    "fil.write('\\n')\n",
    "for i in range(len(wv)):\n",
    "    fil.write(fmt.format('%.8e'%wv[i]))\n",
    "    fil.write(fmt.format('%.8e'%xs[i]))\n",
    "    fil.write('\\n')\n",
    "fil.close()"
   ]
  },
  {
   "cell_type": "code",
   "execution_count": 29,
   "metadata": {},
   "outputs": [],
   "source": [
    "reaction = 'C4H4 + hv => C2H2 + C2H2'\n",
    "\n",
    "val = 0.2\n",
    "wv1 = [np.min(wv),np.max(wv)]\n",
    "qy1 = [val, val]\n",
    "\n",
    "qy_file = reaction.replace(' ','_') + \".txt\"\n",
    "fil = open(folder+'/'+qy_file,'w')\n",
    "fmt = \"{:20}\"\n",
    "fil.write(qy_file+'\\n')\n",
    "fil.write(fmt.format('wavelength'))\n",
    "fil.write(fmt.format('300K'))\n",
    "fil.write('\\n')\n",
    "for i in range(len(wv1)):\n",
    "    fil.write(fmt.format('%.8e'%wv1[i]))\n",
    "    fil.write(fmt.format('%.8e'%qy1[i]))\n",
    "    fil.write('\\n')\n",
    "fil.close()"
   ]
  },
  {
   "cell_type": "code",
   "execution_count": null,
   "metadata": {},
   "outputs": [],
   "source": []
  },
  {
   "cell_type": "code",
   "execution_count": 28,
   "metadata": {},
   "outputs": [],
   "source": [
    "citation = []\n",
    "citation.append({})\n",
    "citation[0]['nm-range'] = ('%.2f'%np.min(wv))+\" - \"+('%.2f'%np.max(wv))\n",
    "citation[0]['citation'] = 'Gladstone et al. (1996)'\n",
    "citation[0]['DOI'] = '10.1006/icar.1996.0001'\n",
    "\n",
    "meta = {}\n",
    "meta[species] = {}\n",
    "meta[species]['reactions'] = {}\n",
    "reaction = 'C4H4 + hv => C2H2 + C2H2'\n",
    "meta[species]['reactions'][reaction] = {}\n",
    "meta[species]['reactions'][reaction]['citations'] = citation.copy()\n",
    "reaction = 'C4H4 + hv => C4H2 + H2'\n",
    "meta[species]['reactions'][reaction] = {}\n",
    "meta[species]['reactions'][reaction]['citations'] = citation.copy()\n",
    "\n",
    "citation = []\n",
    "citation.append({})\n",
    "citation[0]['nm-range'] = ('%.2f'%np.min(wv))+\" - \"+('%.2f'%np.max(wv))\n",
    "citation[0]['citation'] = 'Fahr and Nayak (1996)'\n",
    "citation[0]['DOI'] = '10.1016/0301-0104(95)00401-7'\n",
    "\n",
    "meta[species]['xsections'] ={}\n",
    "meta[species]['xsections']['citations'] = citation.copy()\n",
    "\n",
    "meta[species]['general-notes'] = None\n",
    "\n",
    "fil = open('tmp_meta.yaml','w')\n",
    "yaml.dump(meta,fil)\n",
    "fil.close()"
   ]
  },
  {
   "cell_type": "code",
   "execution_count": 26,
   "metadata": {},
   "outputs": [
    {
     "data": {
      "text/plain": [
       "{'wavelength': [[160.0,\n",
       "   165.0,\n",
       "   170.0,\n",
       "   175.0,\n",
       "   180.0,\n",
       "   185.0,\n",
       "   190.0,\n",
       "   195.0,\n",
       "   200.0,\n",
       "   205.0,\n",
       "   210.0,\n",
       "   215.0,\n",
       "   220.0,\n",
       "   225.0,\n",
       "   230.0,\n",
       "   235.0,\n",
       "   240.0],\n",
       "  [160.0,\n",
       "   165.0,\n",
       "   170.0,\n",
       "   175.0,\n",
       "   180.0,\n",
       "   185.0,\n",
       "   190.0,\n",
       "   195.0,\n",
       "   200.0,\n",
       "   205.0,\n",
       "   210.0,\n",
       "   215.0,\n",
       "   220.0,\n",
       "   225.0,\n",
       "   230.0,\n",
       "   235.0,\n",
       "   240.0],\n",
       "  [160.0,\n",
       "   165.0,\n",
       "   170.0,\n",
       "   175.0,\n",
       "   180.0,\n",
       "   185.0,\n",
       "   190.0,\n",
       "   195.0,\n",
       "   200.0,\n",
       "   205.0,\n",
       "   210.0,\n",
       "   215.0,\n",
       "   220.0,\n",
       "   225.0,\n",
       "   230.0,\n",
       "   235.0,\n",
       "   240.0],\n",
       "  [160.0,\n",
       "   165.0,\n",
       "   170.0,\n",
       "   175.0,\n",
       "   180.0,\n",
       "   185.0,\n",
       "   190.0,\n",
       "   195.0,\n",
       "   200.0,\n",
       "   205.0,\n",
       "   210.0,\n",
       "   215.0,\n",
       "   220.0,\n",
       "   225.0,\n",
       "   230.0,\n",
       "   235.0,\n",
       "   240.0],\n",
       "  [160.0,\n",
       "   165.0,\n",
       "   170.0,\n",
       "   175.0,\n",
       "   180.0,\n",
       "   185.0,\n",
       "   190.0,\n",
       "   195.0,\n",
       "   200.0,\n",
       "   205.0,\n",
       "   210.0,\n",
       "   215.0,\n",
       "   220.0,\n",
       "   225.0,\n",
       "   230.0,\n",
       "   235.0,\n",
       "   240.0],\n",
       "  [160.0,\n",
       "   165.0,\n",
       "   170.0,\n",
       "   175.0,\n",
       "   180.0,\n",
       "   185.0,\n",
       "   190.0,\n",
       "   195.0,\n",
       "   200.0,\n",
       "   205.0,\n",
       "   210.0,\n",
       "   215.0,\n",
       "   220.0,\n",
       "   225.0,\n",
       "   230.0,\n",
       "   235.0,\n",
       "   240.0],\n",
       "  [160.0,\n",
       "   165.0,\n",
       "   170.0,\n",
       "   175.0,\n",
       "   180.0,\n",
       "   185.0,\n",
       "   190.0,\n",
       "   195.0,\n",
       "   200.0,\n",
       "   205.0,\n",
       "   210.0,\n",
       "   215.0,\n",
       "   220.0,\n",
       "   225.0,\n",
       "   230.0,\n",
       "   235.0,\n",
       "   240.0]],\n",
       " 'cross section': [[4.367e-17,\n",
       "   3.343e-17,\n",
       "   3.829e-17,\n",
       "   7.818e-18,\n",
       "   6.751e-18,\n",
       "   6.093e-18,\n",
       "   8.593e-18,\n",
       "   1.258e-17,\n",
       "   1.436e-17,\n",
       "   2.367e-17,\n",
       "   2.178e-17,\n",
       "   2.38e-17,\n",
       "   1.623e-17,\n",
       "   9.904e-18,\n",
       "   1.121e-18,\n",
       "   5.7e-19,\n",
       "   1.425e-19],\n",
       "  [4.175e-17,\n",
       "   3.185e-17,\n",
       "   3.645e-17,\n",
       "   7.467e-18,\n",
       "   6.469e-18,\n",
       "   5.824e-18,\n",
       "   8.036e-18,\n",
       "   1.197e-17,\n",
       "   1.409e-17,\n",
       "   2.317e-17,\n",
       "   2.15e-17,\n",
       "   2.369e-17,\n",
       "   1.608e-17,\n",
       "   1.102e-17,\n",
       "   1.171e-18,\n",
       "   5.972e-19,\n",
       "   1.499e-19],\n",
       "  [3.871e-17,\n",
       "   2.903e-17,\n",
       "   3.288e-17,\n",
       "   6.829e-18,\n",
       "   5.873e-18,\n",
       "   5.323e-18,\n",
       "   7.364e-18,\n",
       "   1.083e-17,\n",
       "   1.377e-17,\n",
       "   2.249e-17,\n",
       "   2.103e-17,\n",
       "   2.32e-17,\n",
       "   1.586e-17,\n",
       "   9.954e-18,\n",
       "   1.221e-18,\n",
       "   6.032e-19,\n",
       "   1.77e-19],\n",
       "  [3.624e-17,\n",
       "   2.73e-17,\n",
       "   3.067e-17,\n",
       "   6.565e-18,\n",
       "   5.578e-18,\n",
       "   5.046e-18,\n",
       "   6.822e-18,\n",
       "   9.98e-18,\n",
       "   1.319e-17,\n",
       "   2.135e-17,\n",
       "   2.007e-17,\n",
       "   2.197e-17,\n",
       "   1.527e-17,\n",
       "   9.379e-18,\n",
       "   1.183e-18,\n",
       "   5.705e-19,\n",
       "   5.92e-20],\n",
       "  [3.993e-17,\n",
       "   2.679e-17,\n",
       "   3.025e-17,\n",
       "   6.411e-18,\n",
       "   5.411e-18,\n",
       "   4.903e-18,\n",
       "   6.614e-18,\n",
       "   9.578e-18,\n",
       "   1.279e-17,\n",
       "   2.046e-17,\n",
       "   1.943e-17,\n",
       "   2.123e-17,\n",
       "   1.495e-17,\n",
       "   9.259e-18,\n",
       "   1.317e-18,\n",
       "   5.896e-19,\n",
       "   2.027e-19],\n",
       "  [3.724e-17,\n",
       "   2.383e-17,\n",
       "   2.659e-17,\n",
       "   6.006e-18,\n",
       "   5.081e-18,\n",
       "   4.615e-18,\n",
       "   5.979e-18,\n",
       "   8.535e-18,\n",
       "   1.269e-17,\n",
       "   2.002e-17,\n",
       "   1.915e-17,\n",
       "   2.103e-17,\n",
       "   1.486e-17,\n",
       "   9.25e-18,\n",
       "   1.364e-18,\n",
       "   5.919e-19,\n",
       "   1.965e-19],\n",
       "  [4.515e-17,\n",
       "   2.332e-17,\n",
       "   2.567e-17,\n",
       "   5.933e-18,\n",
       "   4.885e-18,\n",
       "   4.429e-18,\n",
       "   5.683e-18,\n",
       "   8.109e-18,\n",
       "   1.194e-17,\n",
       "   1.864e-17,\n",
       "   1.8e-17,\n",
       "   1.98e-17,\n",
       "   1.409e-17,\n",
       "   8.812e-18,\n",
       "   1.419e-18,\n",
       "   6.186e-19,\n",
       "   2.25e-19]],\n",
       " 'temperature': [223.0, 233.0, 253.0, 273.0, 295.0, 313.0, 333.0],\n",
       " 'year': [1996.0, 1996.0, 1996.0, 1996.0, 1996.0, 1996.0, 1996.0],\n",
       " 'papers': ['FahrNayak(1996)',\n",
       "  'FahrNayak(1996)',\n",
       "  'FahrNayak(1996)',\n",
       "  'FahrNayak(1996)',\n",
       "  'FahrNayak(1996)',\n",
       "  'FahrNayak(1996)',\n",
       "  'FahrNayak(1996)'],\n",
       " 'bibtex': ['@article{1996,\\n\\tdoi = {10.1016/0301-0104(95)00401-7},\\n\\turl = {https://doi.org/10.1016%2F0301-0104%2895%2900401-7},\\n\\tyear = 1996,\\n\\tmonth = {mar},\\n\\tpublisher = {Elsevier {BV}},\\n\\tvolume = {203},\\n\\tnumber = {3},\\n\\tpages = {351--358},\\n\\tauthor = {Askar Fahr and Akshaya Nayak},\\n\\ttitle = {Temperature dependent ultraviolet absorption cross sections of propylene, methylacetylene and vinylacetylene}\\n}',\n",
       "  '@article{1996,\\n\\tdoi = {10.1016/0301-0104(95)00401-7},\\n\\turl = {https://doi.org/10.1016%2F0301-0104%2895%2900401-7},\\n\\tyear = 1996,\\n\\tmonth = {mar},\\n\\tpublisher = {Elsevier {BV}},\\n\\tvolume = {203},\\n\\tnumber = {3},\\n\\tpages = {351--358},\\n\\tauthor = {Askar Fahr and Akshaya Nayak},\\n\\ttitle = {Temperature dependent ultraviolet absorption cross sections of propylene, methylacetylene and vinylacetylene}\\n}',\n",
       "  '@article{1996,\\n\\tdoi = {10.1016/0301-0104(95)00401-7},\\n\\turl = {https://doi.org/10.1016%2F0301-0104%2895%2900401-7},\\n\\tyear = 1996,\\n\\tmonth = {mar},\\n\\tpublisher = {Elsevier {BV}},\\n\\tvolume = {203},\\n\\tnumber = {3},\\n\\tpages = {351--358},\\n\\tauthor = {Askar Fahr and Akshaya Nayak},\\n\\ttitle = {Temperature dependent ultraviolet absorption cross sections of propylene, methylacetylene and vinylacetylene}\\n}',\n",
       "  '@article{1996,\\n\\tdoi = {10.1016/0301-0104(95)00401-7},\\n\\turl = {https://doi.org/10.1016%2F0301-0104%2895%2900401-7},\\n\\tyear = 1996,\\n\\tmonth = {mar},\\n\\tpublisher = {Elsevier {BV}},\\n\\tvolume = {203},\\n\\tnumber = {3},\\n\\tpages = {351--358},\\n\\tauthor = {Askar Fahr and Akshaya Nayak},\\n\\ttitle = {Temperature dependent ultraviolet absorption cross sections of propylene, methylacetylene and vinylacetylene}\\n}',\n",
       "  '@article{1996,\\n\\tdoi = {10.1016/0301-0104(95)00401-7},\\n\\turl = {https://doi.org/10.1016%2F0301-0104%2895%2900401-7},\\n\\tyear = 1996,\\n\\tmonth = {mar},\\n\\tpublisher = {Elsevier {BV}},\\n\\tvolume = {203},\\n\\tnumber = {3},\\n\\tpages = {351--358},\\n\\tauthor = {Askar Fahr and Akshaya Nayak},\\n\\ttitle = {Temperature dependent ultraviolet absorption cross sections of propylene, methylacetylene and vinylacetylene}\\n}',\n",
       "  '@article{1996,\\n\\tdoi = {10.1016/0301-0104(95)00401-7},\\n\\turl = {https://doi.org/10.1016%2F0301-0104%2895%2900401-7},\\n\\tyear = 1996,\\n\\tmonth = {mar},\\n\\tpublisher = {Elsevier {BV}},\\n\\tvolume = {203},\\n\\tnumber = {3},\\n\\tpages = {351--358},\\n\\tauthor = {Askar Fahr and Akshaya Nayak},\\n\\ttitle = {Temperature dependent ultraviolet absorption cross sections of propylene, methylacetylene and vinylacetylene}\\n}',\n",
       "  '@article{1996,\\n\\tdoi = {10.1016/0301-0104(95)00401-7},\\n\\turl = {https://doi.org/10.1016%2F0301-0104%2895%2900401-7},\\n\\tyear = 1996,\\n\\tmonth = {mar},\\n\\tpublisher = {Elsevier {BV}},\\n\\tvolume = {203},\\n\\tnumber = {3},\\n\\tpages = {351--358},\\n\\tauthor = {Askar Fahr and Akshaya Nayak},\\n\\ttitle = {Temperature dependent ultraviolet absorption cross sections of propylene, methylacetylene and vinylacetylene}\\n}']}"
      ]
     },
     "execution_count": 26,
     "metadata": {},
     "output_type": "execute_result"
    }
   ],
   "source": [
    "mpi.all_data"
   ]
  },
  {
   "cell_type": "code",
   "execution_count": null,
   "metadata": {},
   "outputs": [],
   "source": []
  },
  {
   "cell_type": "code",
   "execution_count": 13,
   "metadata": {},
   "outputs": [],
   "source": [
    "mpi.find_best_data()"
   ]
  },
  {
   "cell_type": "code",
   "execution_count": 21,
   "metadata": {},
   "outputs": [
    {
     "data": {
      "text/plain": [
       "(array([612]),)"
      ]
     },
     "execution_count": 21,
     "metadata": {},
     "output_type": "execute_result"
    }
   ],
   "source": [
    "np.where(mpi.best_data['wavelength']==228.31)"
   ]
  },
  {
   "cell_type": "code",
   "execution_count": null,
   "metadata": {},
   "outputs": [],
   "source": []
  },
  {
   "cell_type": "markdown",
   "metadata": {},
   "source": [
    "# Converting Kevin Zahnle's cross sections"
   ]
  },
  {
   "cell_type": "code",
   "execution_count": 1,
   "metadata": {},
   "outputs": [],
   "source": [
    "import numpy as np\n",
    "from matplotlib import pyplot as plt\n",
    "from ruamel.yaml import YAML\n",
    "yaml = YAML(typ='safe')"
   ]
  },
  {
   "cell_type": "code",
   "execution_count": 2,
   "metadata": {},
   "outputs": [],
   "source": [
    "fil = open(\"Zahnle_Kevin_data/photo_new_new.dat\")\n",
    "lines = fil.readlines()\n",
    "fil.close()\n",
    "\n",
    "fil = open(\"Zahnle_Kevin_data/SW_new_new.DAT\")\n",
    "lines_sw = fil.readlines()\n",
    "fil.close()\n",
    "\n",
    "inds = [1, 158, 196, 267, 396]\n",
    "num = []\n",
    "wav = []\n",
    "wav_av = []\n",
    "for line in lines[inds[0]+1:]:\n",
    "    if line == '\\n':\n",
    "        break\n",
    "    num.append(int(line.split()[0]))\n",
    "    wav.append([float(a) for a in line.split()[1].split('-')])\n",
    "    wav_av.append(np.mean(wav[-1])/10)"
   ]
  },
  {
   "cell_type": "code",
   "execution_count": null,
   "metadata": {},
   "outputs": [],
   "source": []
  },
  {
   "cell_type": "code",
   "execution_count": 3,
   "metadata": {},
   "outputs": [],
   "source": [
    "#H2S\n",
    "sp = 'CS2'\n",
    "xs_lw = 11*[0.]+[1.e-20, 1.5e-20, 2.5e-20, 4.e-20, 7.e-20]+\\\n",
    "[8.e-20, 7.5e-20, 5.e-20, 2.5e-20, 2.e-20, 1.e-20]+ 51*[0.0]\n",
    "\n",
    "xs = 7*[0.]+[7.e-17,9.0e-17,1.2e-16,2.0e-16,4.0e-16]+\\\n",
    "3*[4.5E-16]+[2.5E-16, 1.5E-16, 1.0e-16, 5.0e-17, 3.0e-17]+\\\n",
    "15*[0.0]\n",
    "\n",
    "xs = xs+xs_lw\n",
    "\n",
    "wav_save = wav_av[:len(xs)]"
   ]
  },
  {
   "cell_type": "code",
   "execution_count": null,
   "metadata": {},
   "outputs": [],
   "source": [
    "sp = 'SO2'\n",
    "\n",
    "i = -1\n",
    "\n",
    "paths = ['so2(so+0)',    'so2(1so2)',    's02(3so2)']\n",
    "\n",
    "xs = [0 for i in range(68)]\n",
    "for path in paths[:-1]:\n",
    "\n",
    "    ind = lines[inds[i]-1].split().index(path)+1\n",
    "\n",
    "    for j,line in enumerate(lines[inds[i]+1:]):\n",
    "        if line == '\\n':\n",
    "            break\n",
    "        xs[j]+=float(line.split()[ind])\n",
    "\n",
    "wav_save = wav_av[:len(xs)]\n"
   ]
  },
  {
   "cell_type": "code",
   "execution_count": null,
   "metadata": {},
   "outputs": [],
   "source": []
  },
  {
   "cell_type": "code",
   "execution_count": 486,
   "metadata": {},
   "outputs": [],
   "source": [
    "sp = 'S8L'\n",
    "xs_tot = [1.E-18,1.E-18]\n",
    "wav_tot = [wav_av[0],wav_av[-1]]"
   ]
  },
  {
   "cell_type": "code",
   "execution_count": null,
   "metadata": {},
   "outputs": [],
   "source": []
  },
  {
   "cell_type": "code",
   "execution_count": 562,
   "metadata": {},
   "outputs": [],
   "source": [
    "# N2\n",
    "sp = 'N2'\n",
    "xs_tot = 14*[0.]+[1.e-17,2.5e-16,1.e-17]\n",
    "xs_tot = xs_tot[::-1]\n",
    "wav_tot = wav_sw[:len(xs)]"
   ]
  },
  {
   "cell_type": "code",
   "execution_count": null,
   "metadata": {},
   "outputs": [],
   "source": [
    "#CO\n",
    "sp = 'CO'\n",
    "xs_tot = 14*[0.]+3*[1.e-17]\n",
    "xs_tot = xs_tot[::-1]\n",
    "wav_tot = wav_sw[:len(xs)]"
   ]
  },
  {
   "cell_type": "code",
   "execution_count": null,
   "metadata": {},
   "outputs": [],
   "source": []
  },
  {
   "cell_type": "code",
   "execution_count": 710,
   "metadata": {},
   "outputs": [],
   "source": [
    "# HS\n",
    "sp = 'HS'\n",
    "xs_tot = 45*[0]+[3.e-18, 5.e-19, 1.e-17, 1.6e-17, 1.5e-18, 6.e-19,\\\n",
    "     7.e-17, 3.e-17, 2.e-18, 2.e-19, 3.e-20,\\\n",
    "     1.e-20,2.e-19,1.e-20,4.e-22, 2.e-21, 5.e-22, 5.e-23,\\\n",
    "     8.e-24, 8.e-24, 4.e-24, 1.e-24, 0.]\n",
    "\n",
    "wav_tot = wav_av[:len(xs)]\n"
   ]
  },
  {
   "cell_type": "code",
   "execution_count": 707,
   "metadata": {},
   "outputs": [
    {
     "data": {
      "text/plain": [
       "68"
      ]
     },
     "execution_count": 707,
     "metadata": {},
     "output_type": "execute_result"
    }
   ],
   "source": [
    "len(xs_tot)"
   ]
  },
  {
   "cell_type": "code",
   "execution_count": null,
   "metadata": {},
   "outputs": [],
   "source": []
  },
  {
   "cell_type": "code",
   "execution_count": 4,
   "metadata": {},
   "outputs": [],
   "source": [
    "sp = 'CO2'\n",
    "\n",
    "i = 1\n",
    "try:\n",
    "    ind = lines[inds[i]-1].split().index(sp)-1\n",
    "\n",
    "    xs = []\n",
    "    for line in lines[inds[i]+1:]:\n",
    "        if line == '\\n':\n",
    "            break\n",
    "        xs.append(float(line.split()[ind]))\n",
    "\n",
    "    wav_save = wav_av[:len(xs)]\n",
    "except:\n",
    "    print('no lw data')\n",
    "    xs = []\n",
    "    wav_save = []"
   ]
  },
  {
   "cell_type": "code",
   "execution_count": null,
   "metadata": {},
   "outputs": [],
   "source": []
  },
  {
   "cell_type": "code",
   "execution_count": null,
   "metadata": {},
   "outputs": [],
   "source": []
  },
  {
   "cell_type": "code",
   "execution_count": 5,
   "metadata": {},
   "outputs": [],
   "source": [
    "# search short wavlength\n",
    "\n",
    "sp1 = sp\n",
    "\n",
    "try:\n",
    "    ind = lines_sw[0].split().index(sp1)\n",
    "    \n",
    "    wav_sw = []\n",
    "    for line in lines_sw[2:]:\n",
    "        wav_sw.append(float(line.split()[-1])/10)\n",
    "\n",
    "    wav_sw = wav_sw[::-1]\n",
    "\n",
    "    xs_sw = []\n",
    "    for line in lines_sw[2:]:\n",
    "        xs_sw.append(float(line.split()[ind]))\n",
    "\n",
    "    xs_sw = xs_sw[::-1]\n",
    "\n",
    "    # knit together\n",
    "    wav_tot = wav_sw+wav_save\n",
    "    xs_tot = xs_sw+xs\n",
    "\n",
    "except:\n",
    "    print('no sw data')\n",
    "    wav_tot = wav_save\n",
    "    xs_tot = xs\n",
    "\n",
    "    "
   ]
  },
  {
   "cell_type": "code",
   "execution_count": null,
   "metadata": {},
   "outputs": [],
   "source": []
  },
  {
   "cell_type": "code",
   "execution_count": 7,
   "metadata": {},
   "outputs": [],
   "source": [
    "sp1 = sp\n",
    "fil=open('../xsections'+'/'+sp1+'/'+sp1+'_xs.txt')\n",
    "lines_old = fil.readlines()\n",
    "fil.close()\n",
    "\n",
    "xs_old = []\n",
    "wav_old = []\n",
    "for line in lines_old[2:]:\n",
    "    xs_old.append(float(line.split()[1]))\n",
    "    wav_old.append(float(line.split()[0]))\n"
   ]
  },
  {
   "cell_type": "code",
   "execution_count": 8,
   "metadata": {},
   "outputs": [
    {
     "data": {
      "image/png": "[encoded data removed]",
      "text/plain": [
       "<Figure size 720x360 with 1 Axes>"
      ]
     },
     "metadata": {
      "needs_background": "light"
     },
     "output_type": "display_data"
    }
   ],
   "source": [
    "plt.rcParams.update({'font.size': 15})\n",
    "fig,ax = plt.subplots(1,1,figsize = [10,5])\n",
    "\n",
    "ax.plot(wav_tot,xs_tot,'o-',lw=1)\n",
    "ax.plot(wav_old,xs_old,'o-')\n",
    "\n",
    "ax.set_xlim(170,210)\n",
    "ax.set_ylim(1e-24,1e-20)\n",
    "\n",
    "ax.set_yscale('log')\n",
    "\n",
    "\n",
    "plt.show()"
   ]
  },
  {
   "cell_type": "code",
   "execution_count": 713,
   "metadata": {},
   "outputs": [
    {
     "data": {
      "text/plain": [
       "'HS'"
      ]
     },
     "execution_count": 713,
     "metadata": {},
     "output_type": "execute_result"
    }
   ],
   "source": []
  },
  {
   "cell_type": "code",
   "execution_count": 51,
   "metadata": {},
   "outputs": [],
   "source": [
    "import subprocess\n",
    "subprocess.call('mkdir '+sp,shell=True)\n",
    "\n",
    "fil = open(sp+'/'+sp+'_xs.txt','w')\n",
    "fil.write(sp+' (wavelength = nm, xs = cm2/molecule)\\n')\n",
    "fil.write('wavelength          300K                \\n')\n",
    "\n",
    "for i in range(len(wav_tot)):\n",
    "    fil.write('{:20}'.format('%.8e'%wav_tot[i]))\n",
    "    fil.write('{:20}'.format('%.8e'%xs_tot[i])+'\\n')\n",
    "\n",
    "fil.close()"
   ]
  },
  {
   "cell_type": "code",
   "execution_count": null,
   "metadata": {},
   "outputs": [],
   "source": []
  },
  {
   "cell_type": "code",
   "execution_count": 9,
   "metadata": {},
   "outputs": [],
   "source": [
    "fil = open('Zahnle_Kevin_data/zahnle_earth_photos.yaml','r')\n",
    "rxs = yaml.load(fil)\n",
    "fil.close()\n"
   ]
  },
  {
   "cell_type": "code",
   "execution_count": 10,
   "metadata": {},
   "outputs": [
    {
     "name": "stdout",
     "output_type": "stream",
     "text": [
      "['CO2_+_hv_=>_CO_+_O.txt', 'CO2_+_hv_=>_CO_+_O1D.txt']\n"
     ]
    }
   ],
   "source": [
    "paths = []\n",
    "for rx in rxs:\n",
    "    if rx['equation'].split()[0]==sp:\n",
    "        paths.append(rx['equation'])\n",
    "qy_names = []\n",
    "for path in paths:\n",
    "    qy_names.append(path.replace(' ','_')+'.txt')\n",
    "    \n",
    "print(qy_names)"
   ]
  },
  {
   "cell_type": "code",
   "execution_count": 54,
   "metadata": {},
   "outputs": [],
   "source": [
    "\n",
    "i = 1\n",
    "\n",
    "fil = open(sp+'/'+qy_names[i],'w')\n",
    "fil.write(qy_names[i]+'\\n')\n",
    "fil.write('wavelength          300K                \\n')\n",
    "\n",
    "# for i in range(len(wav_tot)):\n",
    "\n",
    "fil.write('{:20}'.format('%.8e'%wav_tot[0]))\n",
    "fil.write('{:20}'.format('%.8e'%(1.00))+'\\n')\n",
    "\n",
    "fil.write('{:20}'.format('%.8e'%wav_tot[-1]))\n",
    "fil.write('{:20}'.format('%.8e'%(1.00))+'\\n')\n",
    "\n",
    "fil.close()"
   ]
  },
  {
   "cell_type": "code",
   "execution_count": null,
   "metadata": {},
   "outputs": [],
   "source": []
  },
  {
   "cell_type": "code",
   "execution_count": 11,
   "metadata": {},
   "outputs": [
    {
     "data": {
      "text/plain": [
       "{'HNO', 'HNO2', 'Zahnle_Kevin_data'}"
      ]
     },
     "execution_count": 11,
     "metadata": {},
     "output_type": "execute_result"
    }
   ],
   "source": [
    "\n",
    "import os\n",
    "photospec = []\n",
    "for rx in rxs:\n",
    "    photospec.append(rx['equation'].split()[0])\n",
    "\n",
    "\n",
    "directories = [a for a in os.listdir() if os.path.isdir(a) and a[0]!='.']\n",
    "try:\n",
    "    directories.remove('__pycache__')\n",
    "except:\n",
    "    pass\n",
    "\n",
    "set(photospec).symmetric_difference(set(directories))"
   ]
  },
  {
   "cell_type": "code",
   "execution_count": null,
   "metadata": {},
   "outputs": [],
   "source": []
  }
 ],
 "metadata": {
  "kernelspec": {
   "display_name": "Python 3",
   "language": "python",
   "name": "python3"
  },
  "language_info": {
   "codemirror_mode": {
    "name": "ipython",
    "version": 3
   },
   "file_extension": ".py",
   "mimetype": "text/x-python",
   "name": "python",
   "nbconvert_exporter": "python",
   "pygments_lexer": "ipython3",
   "version": "3.8.5"
  }
 },
 "nbformat": 4,
 "nbformat_minor": 4
}
