{
 "cells": [
  {
   "cell_type": "code",
   "execution_count": 27,
   "metadata": {},
   "outputs": [],
   "source": [
    "import numpy as np\n",
    "from matplotlib import pyplot as plt\n",
    "from ruamel.yaml import YAML\n",
    "yaml = YAML(typ='safe')"
   ]
  },
  {
   "cell_type": "code",
   "execution_count": 28,
   "metadata": {},
   "outputs": [],
   "source": [
    "fil = open(\"photo_new_new.dat\")\n",
    "lines = fil.readlines()\n",
    "fil.close()\n",
    "\n",
    "fil = open(\"SW_new_new.DAT\")\n",
    "lines_sw = fil.readlines()\n",
    "fil.close()\n",
    "\n",
    "inds = [1, 158, 196, 267, 396]\n",
    "num = []\n",
    "wav = []\n",
    "wav_av = []\n",
    "for line in lines[inds[0]+1:]:\n",
    "    if line == '\\n':\n",
    "        break\n",
    "    num.append(int(line.split()[0]))\n",
    "    wav.append([float(a) for a in line.split()[1].split('-')])\n",
    "    wav_av.append(np.mean(wav[-1])/10)"
   ]
  },
  {
   "cell_type": "code",
   "execution_count": null,
   "metadata": {},
   "outputs": [],
   "source": []
  },
  {
   "cell_type": "code",
   "execution_count": 573,
   "metadata": {},
   "outputs": [],
   "source": [
    "#H2S\n",
    "sp = 'CS2'\n",
    "xs_lw = 11*[0.]+[1.e-20, 1.5e-20, 2.5e-20, 4.e-20, 7.e-20]+\\\n",
    "[8.e-20, 7.5e-20, 5.e-20, 2.5e-20, 2.e-20, 1.e-20]+ 51*[0.0]\n",
    "\n",
    "xs = 7*[0.]+[7.e-17,9.0e-17,1.2e-16,2.0e-16,4.0e-16]+\\\n",
    "3*[4.5E-16]+[2.5E-16, 1.5E-16, 1.0e-16, 5.0e-17, 3.0e-17]+\\\n",
    "15*[0.0]\n",
    "\n",
    "xs = xs+xs_lw\n",
    "\n",
    "wav_save = wav_av[:len(xs)]"
   ]
  },
  {
   "cell_type": "code",
   "execution_count": null,
   "metadata": {},
   "outputs": [],
   "source": [
    "sp = 'SO2'\n",
    "\n",
    "i = -1\n",
    "\n",
    "paths = ['so2(so+0)',    'so2(1so2)',    's02(3so2)']\n",
    "\n",
    "xs = [0 for i in range(68)]\n",
    "for path in paths[:-1]:\n",
    "\n",
    "    ind = lines[inds[i]-1].split().index(path)+1\n",
    "\n",
    "    for j,line in enumerate(lines[inds[i]+1:]):\n",
    "        if line == '\\n':\n",
    "            break\n",
    "        xs[j]+=float(line.split()[ind])\n",
    "\n",
    "wav_save = wav_av[:len(xs)]\n"
   ]
  },
  {
   "cell_type": "code",
   "execution_count": null,
   "metadata": {},
   "outputs": [],
   "source": []
  },
  {
   "cell_type": "code",
   "execution_count": 486,
   "metadata": {},
   "outputs": [],
   "source": [
    "sp = 'S8L'\n",
    "xs_tot = [1.E-18,1.E-18]\n",
    "wav_tot = [wav_av[0],wav_av[-1]]"
   ]
  },
  {
   "cell_type": "code",
   "execution_count": null,
   "metadata": {},
   "outputs": [],
   "source": []
  },
  {
   "cell_type": "code",
   "execution_count": 562,
   "metadata": {},
   "outputs": [],
   "source": [
    "# N2\n",
    "sp = 'N2'\n",
    "xs_tot = 14*[0.]+[1.e-17,2.5e-16,1.e-17]\n",
    "xs_tot = xs_tot[::-1]\n",
    "wav_tot = wav_sw[:len(xs)]"
   ]
  },
  {
   "cell_type": "code",
   "execution_count": null,
   "metadata": {},
   "outputs": [],
   "source": [
    "#CO\n",
    "sp = 'CO'\n",
    "xs_tot = 14*[0.]+3*[1.e-17]\n",
    "xs_tot = xs_tot[::-1]\n",
    "wav_tot = wav_sw[:len(xs)]"
   ]
  },
  {
   "cell_type": "code",
   "execution_count": null,
   "metadata": {},
   "outputs": [],
   "source": []
  },
  {
   "cell_type": "code",
   "execution_count": 710,
   "metadata": {},
   "outputs": [],
   "source": [
    "# HS\n",
    "sp = 'HS'\n",
    "xs_tot = 45*[0]+[3.e-18, 5.e-19, 1.e-17, 1.6e-17, 1.5e-18, 6.e-19,\\\n",
    "     7.e-17, 3.e-17, 2.e-18, 2.e-19, 3.e-20,\\\n",
    "     1.e-20,2.e-19,1.e-20,4.e-22, 2.e-21, 5.e-22, 5.e-23,\\\n",
    "     8.e-24, 8.e-24, 4.e-24, 1.e-24, 0.]\n",
    "\n",
    "wav_tot = wav_av[:len(xs)]\n"
   ]
  },
  {
   "cell_type": "code",
   "execution_count": 707,
   "metadata": {},
   "outputs": [
    {
     "data": {
      "text/plain": [
       "68"
      ]
     },
     "execution_count": 707,
     "metadata": {},
     "output_type": "execute_result"
    }
   ],
   "source": [
    "len(xs_tot)"
   ]
  },
  {
   "cell_type": "code",
   "execution_count": null,
   "metadata": {},
   "outputs": [],
   "source": []
  },
  {
   "cell_type": "code",
   "execution_count": 39,
   "metadata": {},
   "outputs": [],
   "source": [
    "sp = 'CO2'\n",
    "\n",
    "i = 1\n",
    "try:\n",
    "    ind = lines[inds[i]-1].split().index(sp)-1\n",
    "\n",
    "    xs = []\n",
    "    for line in lines[inds[i]+1:]:\n",
    "        if line == '\\n':\n",
    "            break\n",
    "        xs.append(float(line.split()[ind]))\n",
    "\n",
    "    wav_save = wav_av[:len(xs)]\n",
    "except:\n",
    "    print('no lw data')\n",
    "    xs = []\n",
    "    wav_save = []"
   ]
  },
  {
   "cell_type": "code",
   "execution_count": null,
   "metadata": {},
   "outputs": [],
   "source": []
  },
  {
   "cell_type": "code",
   "execution_count": null,
   "metadata": {},
   "outputs": [],
   "source": []
  },
  {
   "cell_type": "code",
   "execution_count": 40,
   "metadata": {},
   "outputs": [],
   "source": [
    "# search short wavlength\n",
    "\n",
    "sp1 = sp\n",
    "\n",
    "try:\n",
    "    ind = lines_sw[0].split().index(sp1)\n",
    "    \n",
    "    wav_sw = []\n",
    "    for line in lines_sw[2:]:\n",
    "        wav_sw.append(float(line.split()[-1])/10)\n",
    "\n",
    "    wav_sw = wav_sw[::-1]\n",
    "\n",
    "    xs_sw = []\n",
    "    for line in lines_sw[2:]:\n",
    "        xs_sw.append(float(line.split()[ind]))\n",
    "\n",
    "    xs_sw = xs_sw[::-1]\n",
    "\n",
    "    # knit together\n",
    "    wav_tot = wav_sw+wav_save\n",
    "    xs_tot = xs_sw+xs\n",
    "\n",
    "except:\n",
    "    print('no sw data')\n",
    "    wav_tot = wav_save\n",
    "    xs_tot = xs\n",
    "\n",
    "    "
   ]
  },
  {
   "cell_type": "code",
   "execution_count": 41,
   "metadata": {},
   "outputs": [
    {
     "data": {
      "text/plain": [
       "'CO2'"
      ]
     },
     "execution_count": 41,
     "metadata": {},
     "output_type": "execute_result"
    }
   ],
   "source": [
    "sp"
   ]
  },
  {
   "cell_type": "code",
   "execution_count": 42,
   "metadata": {},
   "outputs": [],
   "source": [
    "sp1 = sp\n",
    "fil=open('../xsections'+'/'+sp1+'/'+sp1+'_xs.txt')\n",
    "lines_old = fil.readlines()\n",
    "fil.close()\n",
    "\n",
    "xs_old = []\n",
    "wav_old = []\n",
    "for line in lines_old[2:]:\n",
    "    xs_old.append(float(line.split()[1]))\n",
    "    wav_old.append(float(line.split()[0]))\n"
   ]
  },
  {
   "cell_type": "code",
   "execution_count": 47,
   "metadata": {},
   "outputs": [
    {
     "data": {
      "image/png": "[encoded data removed]",
      "text/plain": [
       "<Figure size 720x360 with 1 Axes>"
      ]
     },
     "metadata": {
      "needs_background": "light"
     },
     "output_type": "display_data"
    }
   ],
   "source": [
    "plt.rcParams.update({'font.size': 15})\n",
    "fig,ax = plt.subplots(1,1,figsize = [10,5])\n",
    "\n",
    "ax.plot(wav_tot,xs_tot,'o-',lw=1)\n",
    "ax.plot(wav_old,xs_old,'o-')\n",
    "\n",
    "ax.set_xlim(170,210)\n",
    "ax.set_ylim(1e-24,1e-20)\n",
    "\n",
    "ax.set_yscale('log')\n",
    "\n",
    "\n",
    "plt.show()"
   ]
  },
  {
   "cell_type": "code",
   "execution_count": 713,
   "metadata": {},
   "outputs": [
    {
     "data": {
      "text/plain": [
       "'HS'"
      ]
     },
     "execution_count": 713,
     "metadata": {},
     "output_type": "execute_result"
    }
   ],
   "source": [
    "sp"
   ]
  },
  {
   "cell_type": "code",
   "execution_count": 51,
   "metadata": {},
   "outputs": [],
   "source": [
    "import subprocess\n",
    "subprocess.call('mkdir '+sp,shell=True)\n",
    "\n",
    "fil = open(sp+'/'+sp+'_xs.txt','w')\n",
    "fil.write(sp+' (wavelength = nm, xs = cm2/molecule)\\n')\n",
    "fil.write('wavelength          300K                \\n')\n",
    "\n",
    "for i in range(len(wav_tot)):\n",
    "    fil.write('{:20}'.format('%.8e'%wav_tot[i]))\n",
    "    fil.write('{:20}'.format('%.8e'%xs_tot[i])+'\\n')\n",
    "\n",
    "fil.close()"
   ]
  },
  {
   "cell_type": "code",
   "execution_count": null,
   "metadata": {},
   "outputs": [],
   "source": []
  },
  {
   "cell_type": "code",
   "execution_count": 49,
   "metadata": {},
   "outputs": [],
   "source": [
    "fil = open('zahnle_earth_photos.yaml','r')\n",
    "rxs = yaml.load(fil)\n",
    "fil.close()\n"
   ]
  },
  {
   "cell_type": "code",
   "execution_count": 52,
   "metadata": {},
   "outputs": [
    {
     "name": "stdout",
     "output_type": "stream",
     "text": [
      "['CO2_+_hv_=>_CO_+_O.txt', 'CO2_+_hv_=>_CO_+_O1D.txt']\n"
     ]
    }
   ],
   "source": [
    "paths = []\n",
    "for rx in rxs:\n",
    "    if rx['equation'].split()[0]==sp:\n",
    "        paths.append(rx['equation'])\n",
    "qy_names = []\n",
    "for path in paths:\n",
    "    qy_names.append(path.replace(' ','_')+'.txt')\n",
    "    \n",
    "print(qy_names)"
   ]
  },
  {
   "cell_type": "code",
   "execution_count": 54,
   "metadata": {},
   "outputs": [],
   "source": [
    "\n",
    "i = 1\n",
    "\n",
    "fil = open(sp+'/'+qy_names[i],'w')\n",
    "fil.write(qy_names[i]+'\\n')\n",
    "fil.write('wavelength          300K                \\n')\n",
    "\n",
    "# for i in range(len(wav_tot)):\n",
    "\n",
    "fil.write('{:20}'.format('%.8e'%wav_tot[0]))\n",
    "fil.write('{:20}'.format('%.8e'%(1.00))+'\\n')\n",
    "\n",
    "fil.write('{:20}'.format('%.8e'%wav_tot[-1]))\n",
    "fil.write('{:20}'.format('%.8e'%(1.00))+'\\n')\n",
    "\n",
    "fil.close()"
   ]
  },
  {
   "cell_type": "code",
   "execution_count": null,
   "metadata": {},
   "outputs": [],
   "source": []
  },
  {
   "cell_type": "code",
   "execution_count": 719,
   "metadata": {},
   "outputs": [
    {
     "data": {
      "text/plain": [
       "{'CO2', 'H2CO', 'HNO', 'HNO2', 'O2', 'O3', 'SO2'}"
      ]
     },
     "execution_count": 719,
     "metadata": {},
     "output_type": "execute_result"
    }
   ],
   "source": [
    "\n",
    "import os\n",
    "photospec = []\n",
    "for rx in rxs:\n",
    "    photospec.append(rx['equation'].split()[0])\n",
    "\n",
    "\n",
    "directories = [a for a in os.listdir() if os.path.isdir(a) and a[0]!='.']\n",
    "try:\n",
    "    directories.remove('__pycache__')\n",
    "except:\n",
    "    pass\n",
    "\n",
    "set(photospec).symmetric_difference(set(directories))"
   ]
  },
  {
   "cell_type": "code",
   "execution_count": null,
   "metadata": {},
   "outputs": [],
   "source": []
  },
  {
   "cell_type": "code",
   "execution_count": null,
   "metadata": {},
   "outputs": [],
   "source": []
  },
  {
   "cell_type": "code",
   "execution_count": 1,
   "metadata": {},
   "outputs": [],
   "source": [
    "import numpy as np\n",
    "from matplotlib import pyplot as plt\n",
    "from PhotoData import MPI_Mainz, phidrates"
   ]
  },
  {
   "cell_type": "code",
   "execution_count": null,
   "metadata": {},
   "outputs": [],
   "source": []
  },
  {
   "cell_type": "code",
   "execution_count": 4,
   "metadata": {},
   "outputs": [],
   "source": [
    "phi = phidrates('CO2')\n",
    "phi.get_atmos_data('CO2')"
   ]
  },
  {
   "cell_type": "code",
   "execution_count": 21,
   "metadata": {},
   "outputs": [],
   "source": [
    "species = 'CO2'\n",
    "fil = open(species+'/'+'CO2_zahnle.abs','r')\n",
    "lines = fil.readlines()\n",
    "fil.close()\n",
    "\n",
    "wv = []\n",
    "xs = []\n",
    "\n",
    "for line in lines[2:]:\n",
    "    wv.append(float(line.split()[0])/10)\n",
    "    xs.append(float(line.split()[1]))"
   ]
  },
  {
   "cell_type": "code",
   "execution_count": 26,
   "metadata": {},
   "outputs": [
    {
     "data": {
      "image/png": "[encoded data removed]",
      "text/plain": [
       "<Figure size 720x360 with 1 Axes>"
      ]
     },
     "metadata": {
      "needs_background": "light"
     },
     "output_type": "display_data"
    }
   ],
   "source": [
    "\n",
    "plt.rcParams.update({'font.size': 15})\n",
    "fig,ax = plt.subplots(1,1,figsize = [10,5])\n",
    "\n",
    "ax.plot(phi.neutral.data['wavelength'],phi.neutral.data['cross section']*phi.neutral.data['sCO/O'],'o-')\n",
    "ax.plot(wv,xs)\n",
    "# ax.plot(new_wv,new_xs)\n",
    "\n",
    "ax.set_yscale('log')\n",
    "ax.set_xlim(92,230)\n",
    "\n",
    "plt.show()"
   ]
  },
  {
   "cell_type": "code",
   "execution_count": 25,
   "metadata": {},
   "outputs": [
    {
     "data": {
      "text/plain": [
       "array([0., 0., 0., 0., 0., 0., 0., 0., 0., 0., 0., 0., 0., 0., 0., 0., 0.,\n",
       "       0., 0., 0., 0., 0., 0., 0., 0., 0., 0., 0., 0., 0., 0., 0., 0., 0.,\n",
       "       0., 0., 0., 0., 0., 0., 0., 0., 0., 0., 0., 0., 0., 0., 0., 0., 0.,\n",
       "       0., 0., 0., 0., 0., 0., 0., 0., 0., 0., 0., 0., 0., 0., 0., 0., 0.,\n",
       "       0., 0., 0., 0., 0., 0., 0., 0., 0., 0., 0., 0., 0., 0., 0., 0., 0.,\n",
       "       0., 0., 0., 0., 0., 0., 0., 0., 0., 0., 0., 0., 0., 0., 0., 0., 0.,\n",
       "       0., 0., 0., 0., 0., 0., 0., 0., 0., 0., 0., 0., 0., 0., 0., 0., 0.,\n",
       "       0., 0., 0., 0., 0., 0., 0., 0., 0., 0., 0., 0., 0., 0., 0., 0., 0.,\n",
       "       0., 0., 0., 0., 0., 0., 0., 0., 0., 0., 0., 0., 0., 0., 0., 0., 0.,\n",
       "       0., 0., 0., 0., 0., 0., 0., 0., 0., 0., 0., 0., 0., 0., 0., 0., 0.,\n",
       "       0., 0., 0., 0., 0., 0., 0., 0., 0., 0., 0., 0., 0., 0., 0., 0., 0.,\n",
       "       0., 0., 0., 0., 0., 0., 0., 0., 0., 0., 0., 0., 0., 0., 0., 0., 0.,\n",
       "       0., 0., 0., 0., 0., 0., 0., 0., 0., 0., 0., 0., 0., 0., 0., 0., 0.,\n",
       "       0., 0., 0., 0., 0., 0., 0., 0., 0., 0., 0., 0., 0., 0., 0., 0., 0.,\n",
       "       0., 0., 0., 0., 0., 0., 0., 0., 0., 0., 0., 0., 0., 0., 0., 0., 0.,\n",
       "       0., 0., 0., 0., 0., 0., 0., 0., 0., 0., 0., 0., 0., 0., 0., 0., 0.,\n",
       "       0., 0., 0., 0., 0., 0., 0., 0., 0., 0., 0., 0., 0., 0., 0., 0., 0.,\n",
       "       0., 0., 0., 0., 0., 0., 0., 0., 0., 0., 0., 0., 0., 0., 0., 0., 0.,\n",
       "       0., 0., 0., 0., 0., 0., 0., 0., 0., 0., 0., 0., 0., 0., 0., 0., 0.,\n",
       "       0., 0., 0., 0., 0., 0., 0., 0., 0., 0., 0., 0., 0., 0., 0., 0., 0.,\n",
       "       0., 0., 0., 0., 0., 0., 0., 0., 0., 0., 0., 0., 0., 0., 0., 0., 0.,\n",
       "       0., 0., 0., 0., 0., 0., 0., 0., 0., 0., 0., 0., 0., 0., 0., 0., 0.,\n",
       "       0., 0., 0., 0., 0., 0., 0., 0., 0., 0., 0., 0., 0., 0., 0., 0., 0.,\n",
       "       0., 0., 0., 0., 0., 0., 0., 0., 0., 0., 0., 0., 0., 0., 0., 0., 0.,\n",
       "       0., 0., 0., 0., 0., 0., 0., 0., 0., 0., 0., 0., 0., 0., 0., 0., 0.,\n",
       "       0., 0., 0., 0., 0., 0., 0., 0., 0., 0., 0., 0., 0., 0., 0., 0., 0.,\n",
       "       0., 0., 0., 0., 0., 0., 0., 0., 0., 0., 0., 0., 0., 0., 0., 0., 0.,\n",
       "       0., 0., 0., 0., 0., 0., 0., 0., 0., 0., 0., 0., 0., 0., 0., 0., 0.,\n",
       "       0., 0., 0., 0., 0., 0., 0., 0., 0., 0., 0., 0., 0., 0., 0., 0., 0.,\n",
       "       0., 0., 0., 0., 0., 0., 0., 0., 0., 0., 0., 0., 0., 0., 0., 0., 0.,\n",
       "       0., 0., 0., 0., 0., 0., 0., 0., 0., 0., 0., 0., 0., 0., 0., 0., 1.,\n",
       "       1., 1., 1., 1., 1., 1., 1.])"
      ]
     },
     "execution_count": 25,
     "metadata": {},
     "output_type": "execute_result"
    }
   ],
   "source": [
    "pc.out_dict"
   ]
  },
  {
   "cell_type": "code",
   "execution_count": null,
   "metadata": {},
   "outputs": [],
   "source": []
  }
 ],
 "metadata": {
  "kernelspec": {
   "display_name": "Python 3",
   "language": "python",
   "name": "python3"
  },
  "language_info": {
   "codemirror_mode": {
    "name": "ipython",
    "version": 3
   },
   "file_extension": ".py",
   "mimetype": "text/x-python",
   "name": "python",
   "nbconvert_exporter": "python",
   "pygments_lexer": "ipython3",
   "version": "3.8.5"
  }
 },
 "nbformat": 4,
 "nbformat_minor": 4
}
