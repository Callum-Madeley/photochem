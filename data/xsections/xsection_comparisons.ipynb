{
 "cells": [
  {
   "cell_type": "code",
   "execution_count": 29,
   "metadata": {},
   "outputs": [
    {
     "name": "stdout",
     "output_type": "stream",
     "text": [
      "xs_metadata.yaml is consistent with the data files.\n"
     ]
    }
   ],
   "source": [
    "import numpy as np\n",
    "from matplotlib import pyplot as plt\n",
    "\n",
    "from PhotoData import MPI_Mainz, phidrates\n",
    "\n",
    "from xs_tools import check_consistency\n",
    "check_consistency()\n",
    "\n",
    "from ruamel.yaml import YAML\n",
    "yaml = YAML(typ='safe')"
   ]
  },
  {
   "cell_type": "code",
   "execution_count": 37,
   "metadata": {},
   "outputs": [],
   "source": [
    "from ruamel.yaml import YAML\n",
    "yaml = YAML()"
   ]
  },
  {
   "cell_type": "code",
   "execution_count": 155,
   "metadata": {},
   "outputs": [],
   "source": [
    "fil = open('xs_metadata.yaml','r')\n",
    "meta_data = yaml.load(fil)\n",
    "fil.close()"
   ]
  },
  {
   "cell_type": "code",
   "execution_count": null,
   "metadata": {},
   "outputs": [],
   "source": [
    "\n",
    "\n"
   ]
  },
  {
   "cell_type": "code",
   "execution_count": null,
   "metadata": {},
   "outputs": [],
   "source": []
  },
  {
   "cell_type": "code",
   "execution_count": 156,
   "metadata": {},
   "outputs": [],
   "source": [
    "spec = 'H2O'\n",
    "\n",
    "# get the xs in folders\n",
    "fil = open(spec+'/'+spec+'_xs.txt','r')\n",
    "lines = fil.readlines()\n",
    "fil.close()\n",
    "\n",
    "photochem = {}\n",
    "photochem['wavelength'] = np.array([])\n",
    "photochem['xs'] = np.array([])\n",
    "for line in lines[2:]:\n",
    "    photochem['wavelength'] = np.append(photochem['wavelength'], float(line.split()[0]))\n",
    "    photochem['xs'] = np.append(photochem['xs'], float(line.split()[1]))"
   ]
  },
  {
   "cell_type": "code",
   "execution_count": 157,
   "metadata": {},
   "outputs": [],
   "source": [
    "fil = open('H2O_Ranjan(2020)_292K_192.057-230.413nm(extrapolated).txt','r')\n",
    "lines = fil.readlines()\n",
    "fil.close()\n",
    "\n",
    "out = {}\n",
    "out['wavelength'] = np.array([])\n",
    "out['xs'] = np.array([])\n",
    "for line in lines:\n",
    "    out['wavelength'] = np.append(out['wavelength'], float(line.split()[0]))\n",
    "    out['xs'] = np.append(out['xs'], float(line.split()[1]))"
   ]
  },
  {
   "cell_type": "code",
   "execution_count": null,
   "metadata": {},
   "outputs": [],
   "source": [
    "# build ranjan into the xsection"
   ]
  },
  {
   "cell_type": "code",
   "execution_count": 213,
   "metadata": {},
   "outputs": [],
   "source": [
    "start = np.min(out['wavelength'])\n",
    "end = np.max(out['wavelength'])\n",
    "\n",
    "wv_out = np.linspace(start,end,50)\n",
    "xs_out = np.interp(wv_out,out['wavelength'],out['xs'])"
   ]
  },
  {
   "cell_type": "code",
   "execution_count": 219,
   "metadata": {},
   "outputs": [
    {
     "data": {
      "text/plain": [
       "230.413"
      ]
     },
     "execution_count": 219,
     "metadata": {},
     "output_type": "execute_result"
    }
   ],
   "source": [
    "end"
   ]
  },
  {
   "cell_type": "code",
   "execution_count": 215,
   "metadata": {},
   "outputs": [],
   "source": [
    "new_wv = np.append(np.append(photochem['wavelength'][:-2],wv_out),[end+1e-4,photochem['wavelength'][-1]])\n",
    "new_xs = np.append(np.append(photochem['xs'][:-2],xs_out),[0,0])"
   ]
  },
  {
   "cell_type": "code",
   "execution_count": 212,
   "metadata": {},
   "outputs": [
    {
     "data": {
      "text/plain": [
       "50"
      ]
     },
     "execution_count": 212,
     "metadata": {},
     "output_type": "execute_result"
    }
   ],
   "source": [
    "len(wv_out)"
   ]
  },
  {
   "cell_type": "code",
   "execution_count": null,
   "metadata": {},
   "outputs": [],
   "source": []
  },
  {
   "cell_type": "code",
   "execution_count": 216,
   "metadata": {},
   "outputs": [
    {
     "data": {
      "image/png": "[encoded data removed]",
      "text/plain": [
       "<Figure size 720x360 with 1 Axes>"
      ]
     },
     "metadata": {
      "needs_background": "light"
     },
     "output_type": "display_data"
    }
   ],
   "source": [
    "plt.rcParams.update({'font.size': 15})\n",
    "fig,ax = plt.subplots(1,1,figsize = [10,5])\n",
    "\n",
    "ax.plot(photochem['wavelength'][:-2],photochem['xs'][:-2])\n",
    "ax.plot(out['wavelength'],out['xs'])\n",
    "# ax.plot(new_wv,new_xs)\n",
    "\n",
    "ax.set_yscale('log')\n",
    "# ax.set_\n",
    "\n",
    "plt.show()"
   ]
  },
  {
   "cell_type": "code",
   "execution_count": 217,
   "metadata": {},
   "outputs": [],
   "source": [
    "fil = open('H2O_xs_new.txt','w')\n",
    "\n",
    "for i in range(len(new_wv)):\n",
    "\n",
    "    fil.write('{:20}'.format('%.8e'%new_wv[i]))\n",
    "    fil.write('{:20}'.format('%.8e'%new_xs[i])+'\\n')\n",
    "\n",
    "fil.close()"
   ]
  },
  {
   "cell_type": "code",
   "execution_count": null,
   "metadata": {},
   "outputs": [],
   "source": []
  },
  {
   "cell_type": "code",
   "execution_count": null,
   "metadata": {},
   "outputs": [],
   "source": []
  },
  {
   "cell_type": "code",
   "execution_count": null,
   "metadata": {},
   "outputs": [],
   "source": []
  }
 ],
 "metadata": {
  "kernelspec": {
   "display_name": "Python 3",
   "language": "python",
   "name": "python3"
  },
  "language_info": {
   "codemirror_mode": {
    "name": "ipython",
    "version": 3
   },
   "file_extension": ".py",
   "mimetype": "text/x-python",
   "name": "python",
   "nbconvert_exporter": "python",
   "pygments_lexer": "ipython3",
   "version": "3.8.5"
  }
 },
 "nbformat": 4,
 "nbformat_minor": 4
}
