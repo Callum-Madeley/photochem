{
 "cells": [
  {
   "cell_type": "code",
   "execution_count": 55,
   "metadata": {},
   "outputs": [],
   "source": [
    "import numpy as np\n",
    "from matplotlib import pyplot as plt\n",
    "from ruamel.yaml import YAML\n",
    "yaml = YAML(typ='safe')"
   ]
  },
  {
   "cell_type": "code",
   "execution_count": 494,
   "metadata": {},
   "outputs": [],
   "source": [
    "fil = open(\"photo_new_new.dat\")\n",
    "lines = fil.readlines()\n",
    "fil.close()\n",
    "\n",
    "fil = open(\"SW_new_new.DAT\")\n",
    "lines_sw = fil.readlines()\n",
    "fil.close()\n",
    "\n",
    "inds = [1, 158, 196, 267, 396]\n",
    "num = []\n",
    "wav = []\n",
    "wav_av = []\n",
    "for line in lines[inds[0]+1:]:\n",
    "    if line == '\\n':\n",
    "        break\n",
    "    num.append(int(line.split()[0]))\n",
    "    wav.append([float(a) for a in line.split()[1].split('-')])\n",
    "    wav_av.append(np.mean(wav[-1])/10)"
   ]
  },
  {
   "cell_type": "code",
   "execution_count": null,
   "metadata": {},
   "outputs": [],
   "source": []
  },
  {
   "cell_type": "code",
   "execution_count": 573,
   "metadata": {},
   "outputs": [],
   "source": [
    "#H2S\n",
    "sp = 'CS2'\n",
    "xs_lw = 11*[0.]+[1.e-20, 1.5e-20, 2.5e-20, 4.e-20, 7.e-20]+\\\n",
    "[8.e-20, 7.5e-20, 5.e-20, 2.5e-20, 2.e-20, 1.e-20]+ 51*[0.0]\n",
    "\n",
    "xs = 7*[0.]+[7.e-17,9.0e-17,1.2e-16,2.0e-16,4.0e-16]+\\\n",
    "3*[4.5E-16]+[2.5E-16, 1.5E-16, 1.0e-16, 5.0e-17, 3.0e-17]+\\\n",
    "15*[0.0]\n",
    "\n",
    "xs = xs+xs_lw\n",
    "\n",
    "wav_save = wav_av[:len(xs)]"
   ]
  },
  {
   "cell_type": "code",
   "execution_count": null,
   "metadata": {},
   "outputs": [],
   "source": [
    "sp = 'SO2'\n",
    "\n",
    "i = -1\n",
    "\n",
    "paths = ['so2(so+0)',    'so2(1so2)',    's02(3so2)']\n",
    "\n",
    "xs = [0 for i in range(68)]\n",
    "for path in paths[:-1]:\n",
    "\n",
    "    ind = lines[inds[i]-1].split().index(path)+1\n",
    "\n",
    "    for j,line in enumerate(lines[inds[i]+1:]):\n",
    "        if line == '\\n':\n",
    "            break\n",
    "        xs[j]+=float(line.split()[ind])\n",
    "\n",
    "wav_save = wav_av[:len(xs)]\n"
   ]
  },
  {
   "cell_type": "code",
   "execution_count": null,
   "metadata": {},
   "outputs": [],
   "source": []
  },
  {
   "cell_type": "code",
   "execution_count": 486,
   "metadata": {},
   "outputs": [],
   "source": [
    "sp = 'S8L'\n",
    "xs_tot = [1.E-18,1.E-18]\n",
    "wav_tot = [wav_av[0],wav_av[-1]]"
   ]
  },
  {
   "cell_type": "code",
   "execution_count": null,
   "metadata": {},
   "outputs": [],
   "source": []
  },
  {
   "cell_type": "code",
   "execution_count": 562,
   "metadata": {},
   "outputs": [],
   "source": [
    "# N2\n",
    "sp = 'N2'\n",
    "xs_tot = 14*[0.]+[1.e-17,2.5e-16,1.e-17]\n",
    "xs_tot = xs_tot[::-1]\n",
    "wav_tot = wav_sw[:len(xs)]"
   ]
  },
  {
   "cell_type": "code",
   "execution_count": null,
   "metadata": {},
   "outputs": [],
   "source": [
    "#CO\n",
    "sp = 'CO'\n",
    "xs_tot = 14*[0.]+3*[1.e-17]\n",
    "xs_tot = xs_tot[::-1]\n",
    "wav_tot = wav_sw[:len(xs)]"
   ]
  },
  {
   "cell_type": "code",
   "execution_count": null,
   "metadata": {},
   "outputs": [],
   "source": []
  },
  {
   "cell_type": "code",
   "execution_count": 710,
   "metadata": {},
   "outputs": [],
   "source": [
    "# HS\n",
    "sp = 'HS'\n",
    "xs_tot = 45*[0]+[3.e-18, 5.e-19, 1.e-17, 1.6e-17, 1.5e-18, 6.e-19,\\\n",
    "     7.e-17, 3.e-17, 2.e-18, 2.e-19, 3.e-20,\\\n",
    "     1.e-20,2.e-19,1.e-20,4.e-22, 2.e-21, 5.e-22, 5.e-23,\\\n",
    "     8.e-24, 8.e-24, 4.e-24, 1.e-24, 0.]\n",
    "\n",
    "wav_tot = wav_av[:len(xs)]\n"
   ]
  },
  {
   "cell_type": "code",
   "execution_count": 707,
   "metadata": {},
   "outputs": [
    {
     "data": {
      "text/plain": [
       "68"
      ]
     },
     "execution_count": 707,
     "metadata": {},
     "output_type": "execute_result"
    }
   ],
   "source": [
    "len(xs_tot)"
   ]
  },
  {
   "cell_type": "code",
   "execution_count": null,
   "metadata": {},
   "outputs": [],
   "source": []
  },
  {
   "cell_type": "code",
   "execution_count": 690,
   "metadata": {},
   "outputs": [],
   "source": [
    "sp = 'H2O2'\n",
    "\n",
    "i = 2\n",
    "try:\n",
    "    ind = lines[inds[i]-1].split().index('H202')-0\n",
    "\n",
    "    xs = []\n",
    "    for line in lines[inds[i]+1:]:\n",
    "        if line == '\\n':\n",
    "            break\n",
    "        xs.append(float(line.split()[ind]))\n",
    "\n",
    "    wav_save = wav_av[:len(xs)]\n",
    "except:\n",
    "    print('no lw data')\n",
    "    xs = []\n",
    "    wav_save = []"
   ]
  },
  {
   "cell_type": "code",
   "execution_count": 691,
   "metadata": {},
   "outputs": [
    {
     "data": {
      "text/plain": [
       "[7e-19,\n",
       " 7e-19,\n",
       " 7e-19,\n",
       " 7e-19,\n",
       " 7e-19,\n",
       " 7e-19,\n",
       " 7e-19,\n",
       " 7e-19,\n",
       " 7e-19,\n",
       " 6.5e-19,\n",
       " 6e-19,\n",
       " 5.6e-19,\n",
       " 5.3e-19,\n",
       " 4.9e-19,\n",
       " 4.6e-19,\n",
       " 4.3e-19,\n",
       " 4e-19,\n",
       " 3.8e-19,\n",
       " 3.5e-19,\n",
       " 3.3e-19,\n",
       " 3.1e-19,\n",
       " 2.9e-19,\n",
       " 2.7e-19,\n",
       " 2.5e-19,\n",
       " 2.3e-19,\n",
       " 2.2e-19,\n",
       " 1.9e-19,\n",
       " 1.7e-19,\n",
       " 1.6e-19,\n",
       " 1.4e-19,\n",
       " 1.3e-19,\n",
       " 1.1e-19,\n",
       " 1e-19,\n",
       " 9e-20,\n",
       " 8e-20,\n",
       " 6.8e-20,\n",
       " 5.8e-20,\n",
       " 5e-20,\n",
       " 4.2e-20,\n",
       " 3.5e-20,\n",
       " 3e-20,\n",
       " 2.5e-20,\n",
       " 2e-20,\n",
       " 1.7e-20,\n",
       " 1.3e-20,\n",
       " 1e-20,\n",
       " 8e-21,\n",
       " 6.7e-21,\n",
       " 5e-21,\n",
       " 3.7e-21,\n",
       " 2.8e-21,\n",
       " 2e-21,\n",
       " 1.5e-21,\n",
       " 1.2e-21,\n",
       " 9e-22,\n",
       " 7e-22,\n",
       " 5e-22,\n",
       " 3e-22,\n",
       " 0.0,\n",
       " 0.0,\n",
       " 0.0,\n",
       " 0.0,\n",
       " 0.0,\n",
       " 0.0,\n",
       " 0.0,\n",
       " 0.0,\n",
       " 0.0,\n",
       " 0.0]"
      ]
     },
     "execution_count": 691,
     "metadata": {},
     "output_type": "execute_result"
    }
   ],
   "source": [
    "xs"
   ]
  },
  {
   "cell_type": "code",
   "execution_count": null,
   "metadata": {},
   "outputs": [],
   "source": []
  },
  {
   "cell_type": "code",
   "execution_count": 692,
   "metadata": {},
   "outputs": [
    {
     "name": "stdout",
     "output_type": "stream",
     "text": [
      "no sw data\n"
     ]
    }
   ],
   "source": [
    "# search short wavlength\n",
    "\n",
    "sp1 = sp\n",
    "\n",
    "try:\n",
    "    ind = lines_sw[0].split().index(sp1)\n",
    "    \n",
    "    wav_sw = []\n",
    "    for line in lines_sw[2:]:\n",
    "        wav_sw.append(float(line.split()[-1])/10)\n",
    "\n",
    "    wav_sw = wav_sw[::-1]\n",
    "\n",
    "    xs_sw = []\n",
    "    for line in lines_sw[2:]:\n",
    "        xs_sw.append(float(line.split()[ind]))\n",
    "\n",
    "    xs_sw = xs_sw[::-1]\n",
    "\n",
    "    # knit together\n",
    "    wav_tot = wav_sw+wav_save\n",
    "    xs_tot = xs_sw+xs\n",
    "\n",
    "except:\n",
    "    print('no sw data')\n",
    "    wav_tot = wav_save\n",
    "    xs_tot = xs\n",
    "\n",
    "    "
   ]
  },
  {
   "cell_type": "code",
   "execution_count": 693,
   "metadata": {},
   "outputs": [
    {
     "data": {
      "text/plain": [
       "'H2O2'"
      ]
     },
     "execution_count": 693,
     "metadata": {},
     "output_type": "execute_result"
    }
   ],
   "source": [
    "sp"
   ]
  },
  {
   "cell_type": "code",
   "execution_count": 711,
   "metadata": {},
   "outputs": [
    {
     "ename": "FileNotFoundError",
     "evalue": "[Errno 2] No such file or directory: '../xsections/HS/HS_xs.txt'",
     "output_type": "error",
     "traceback": [
      "\u001b[0;31m---------------------------------------------------------------------------\u001b[0m",
      "\u001b[0;31mFileNotFoundError\u001b[0m                         Traceback (most recent call last)",
      "\u001b[0;32m<ipython-input-711-edf2d15b33c2>\u001b[0m in \u001b[0;36m<module>\u001b[0;34m\u001b[0m\n\u001b[1;32m      1\u001b[0m \u001b[0msp1\u001b[0m \u001b[0;34m=\u001b[0m \u001b[0msp\u001b[0m\u001b[0;34m\u001b[0m\u001b[0;34m\u001b[0m\u001b[0m\n\u001b[0;32m----> 2\u001b[0;31m \u001b[0mfil\u001b[0m\u001b[0;34m=\u001b[0m\u001b[0mopen\u001b[0m\u001b[0;34m(\u001b[0m\u001b[0;34m'../xsections'\u001b[0m\u001b[0;34m+\u001b[0m\u001b[0;34m'/'\u001b[0m\u001b[0;34m+\u001b[0m\u001b[0msp1\u001b[0m\u001b[0;34m+\u001b[0m\u001b[0;34m'/'\u001b[0m\u001b[0;34m+\u001b[0m\u001b[0msp1\u001b[0m\u001b[0;34m+\u001b[0m\u001b[0;34m'_xs.txt'\u001b[0m\u001b[0;34m)\u001b[0m\u001b[0;34m\u001b[0m\u001b[0;34m\u001b[0m\u001b[0m\n\u001b[0m\u001b[1;32m      3\u001b[0m \u001b[0mlines_old\u001b[0m \u001b[0;34m=\u001b[0m \u001b[0mfil\u001b[0m\u001b[0;34m.\u001b[0m\u001b[0mreadlines\u001b[0m\u001b[0;34m(\u001b[0m\u001b[0;34m)\u001b[0m\u001b[0;34m\u001b[0m\u001b[0;34m\u001b[0m\u001b[0m\n\u001b[1;32m      4\u001b[0m \u001b[0mfil\u001b[0m\u001b[0;34m.\u001b[0m\u001b[0mclose\u001b[0m\u001b[0;34m(\u001b[0m\u001b[0;34m)\u001b[0m\u001b[0;34m\u001b[0m\u001b[0;34m\u001b[0m\u001b[0m\n\u001b[1;32m      5\u001b[0m \u001b[0;34m\u001b[0m\u001b[0m\n",
      "\u001b[0;31mFileNotFoundError\u001b[0m: [Errno 2] No such file or directory: '../xsections/HS/HS_xs.txt'"
     ]
    }
   ],
   "source": [
    "sp1 = sp\n",
    "fil=open('../xsections'+'/'+sp1+'/'+sp1+'_xs.txt')\n",
    "lines_old = fil.readlines()\n",
    "fil.close()\n",
    "\n",
    "xs_old = []\n",
    "wav_old = []\n",
    "for line in lines_old[2:]:\n",
    "    xs_old.append(float(line.split()[1]))\n",
    "    wav_old.append(float(line.split()[0]))\n"
   ]
  },
  {
   "cell_type": "code",
   "execution_count": 712,
   "metadata": {},
   "outputs": [
    {
     "data": {
      "image/png": "[encoded data removed]",
      "text/plain": [
       "<Figure size 720x360 with 1 Axes>"
      ]
     },
     "metadata": {
      "needs_background": "light"
     },
     "output_type": "display_data"
    }
   ],
   "source": [
    "plt.rcParams.update({'font.size': 15})\n",
    "fig,ax = plt.subplots(1,1,figsize = [10,5])\n",
    "\n",
    "ax.plot(wav_tot,xs_tot,lw=3)\n",
    "# ax.plot(wav_old,xs_old)\n",
    "\n",
    "# ax.set_xlim(290,360)\n",
    "\n",
    "ax.set_yscale('log')\n",
    "\n",
    "\n",
    "plt.show()"
   ]
  },
  {
   "cell_type": "code",
   "execution_count": 713,
   "metadata": {},
   "outputs": [
    {
     "data": {
      "text/plain": [
       "'HS'"
      ]
     },
     "execution_count": 713,
     "metadata": {},
     "output_type": "execute_result"
    }
   ],
   "source": [
    "sp"
   ]
  },
  {
   "cell_type": "code",
   "execution_count": 714,
   "metadata": {},
   "outputs": [],
   "source": [
    "import subprocess\n",
    "subprocess.call('mkdir '+sp,shell=True)\n",
    "\n",
    "fil = open(sp+'/'+sp+'_xs.txt','w')\n",
    "fil.write(sp+' (wavelength = nm, xs = cm2/molecule)\\n')\n",
    "fil.write('wavelength          300K                \\n')\n",
    "\n",
    "for i in range(len(wav_tot)):\n",
    "    fil.write('{:20}'.format('%.8e'%wav_tot[i]))\n",
    "    fil.write('{:20}'.format('%.8e'%xs_tot[i])+'\\n')\n",
    "\n",
    "fil.close()"
   ]
  },
  {
   "cell_type": "code",
   "execution_count": null,
   "metadata": {},
   "outputs": [],
   "source": []
  },
  {
   "cell_type": "code",
   "execution_count": 715,
   "metadata": {},
   "outputs": [],
   "source": [
    "fil = open('zahnle_earth_photos.yaml','r')\n",
    "rxs = yaml.load(fil)\n",
    "fil.close()\n"
   ]
  },
  {
   "cell_type": "code",
   "execution_count": 716,
   "metadata": {},
   "outputs": [
    {
     "name": "stdout",
     "output_type": "stream",
     "text": [
      "['HS_+_hv_=>_H_+_S.txt']\n"
     ]
    }
   ],
   "source": [
    "paths = []\n",
    "for rx in rxs:\n",
    "    if rx['equation'].split()[0]==sp:\n",
    "        paths.append(rx['equation'])\n",
    "qy_names = []\n",
    "for path in paths:\n",
    "    qy_names.append(path.replace(' ','_')+'.txt')\n",
    "    \n",
    "print(qy_names)"
   ]
  },
  {
   "cell_type": "code",
   "execution_count": 717,
   "metadata": {},
   "outputs": [],
   "source": [
    "\n",
    "i = 0\n",
    "\n",
    "fil = open(sp+'/'+qy_names[i],'w')\n",
    "fil.write(qy_names[i]+'\\n')\n",
    "fil.write('wavelength          300K                \\n')\n",
    "\n",
    "# for i in range(len(wav_tot)):\n",
    "\n",
    "fil.write('{:20}'.format('%.8e'%wav_tot[0]))\n",
    "fil.write('{:20}'.format('%.8e'%(1.00))+'\\n')\n",
    "\n",
    "fil.write('{:20}'.format('%.8e'%wav_tot[-1]))\n",
    "fil.write('{:20}'.format('%.8e'%(1.00))+'\\n')\n",
    "\n",
    "fil.close()"
   ]
  },
  {
   "cell_type": "code",
   "execution_count": null,
   "metadata": {},
   "outputs": [],
   "source": []
  },
  {
   "cell_type": "code",
   "execution_count": 719,
   "metadata": {},
   "outputs": [
    {
     "data": {
      "text/plain": [
       "{'CO2', 'H2CO', 'HNO', 'HNO2', 'O2', 'O3', 'SO2'}"
      ]
     },
     "execution_count": 719,
     "metadata": {},
     "output_type": "execute_result"
    }
   ],
   "source": [
    "\n",
    "import os\n",
    "photospec = []\n",
    "for rx in rxs:\n",
    "    photospec.append(rx['equation'].split()[0])\n",
    "\n",
    "\n",
    "directories = [a for a in os.listdir() if os.path.isdir(a) and a[0]!='.']\n",
    "try:\n",
    "    directories.remove('__pycache__')\n",
    "except:\n",
    "    pass\n",
    "\n",
    "set(photospec).symmetric_difference(set(directories))"
   ]
  },
  {
   "cell_type": "code",
   "execution_count": null,
   "metadata": {},
   "outputs": [],
   "source": []
  },
  {
   "cell_type": "code",
   "execution_count": null,
   "metadata": {},
   "outputs": [],
   "source": []
  }
 ],
 "metadata": {
  "kernelspec": {
   "display_name": "Python 3",
   "language": "python",
   "name": "python3"
  },
  "language_info": {
   "codemirror_mode": {
    "name": "ipython",
    "version": 3
   },
   "file_extension": ".py",
   "mimetype": "text/x-python",
   "name": "python",
   "nbconvert_exporter": "python",
   "pygments_lexer": "ipython3",
   "version": "3.8.5"
  }
 },
 "nbformat": 4,
 "nbformat_minor": 4
}
