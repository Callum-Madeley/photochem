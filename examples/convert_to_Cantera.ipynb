{
 "cells": [
  {
   "cell_type": "markdown",
   "id": "94feedea",
   "metadata": {},
   "source": [
    "# Converting to Cantera\n",
    "\n",
    "[Cantera](https://cantera.org/) is a chemical engineering software. It is extremely well documented and works well for all sorts of chemistry applications (e.g. chemical equilibrium, or 0-D kinetics). Photochem uses nearly the same input file format as Cantera, so its easy to adjust a Photochem network for use with Cantera.\n",
    "\n",
    "Here I convert the `zahnle_earth.yaml` network to Cantera format. During conversion all photolysis reaction are deleted. Cantera doesn't do photolysis."
   ]
  },
  {
   "cell_type": "code",
   "execution_count": 1,
   "id": "481e4350",
   "metadata": {},
   "outputs": [],
   "source": [
    "from photochem.utils import photochem2cantera\n",
    "from photochem import zahnle_earth\n",
    "\n",
    "photochem2cantera(zahnle_earth,'zahnle_earth_ct.yaml')"
   ]
  },
  {
   "cell_type": "code",
   "execution_count": 2,
   "id": "242762fc",
   "metadata": {},
   "outputs": [
    {
     "name": "stdout",
     "output_type": "stream",
     "text": [
      "\n",
      "  gas name:\n",
      "\n",
      "       temperature   300 K\n",
      "          pressure   1e+05 Pa\n",
      "           density   0.16047 kg/m^3\n",
      "  mean mol. weight   4.0026 kg/kmol\n",
      "   phase of matter   gas\n",
      "\n",
      "                          1 kg             1 kmol     \n",
      "                     ---------------   ---------------\n",
      "          enthalpy            9610.7             38468  J\n",
      "   internal energy       -6.1357e+05       -2.4559e+06  J\n",
      "           entropy             31577        1.2639e+05  J/K\n",
      "    Gibbs function       -9.4635e+06       -3.7879e+07  J\n",
      " heat capacity c_p            5193.1             20786  J/K\n",
      " heat capacity c_v            3115.9             12472  J/K\n",
      "\n",
      "                      mass frac. Y      mole frac. X     chem. pot. / RT\n",
      "                     ---------------   ---------------   ---------------\n",
      "                He                 1                 1           -15.186\n",
      "     [  +96 minor]                 0                 0  \n",
      "\n"
     ]
    }
   ],
   "source": [
    "import cantera as ct\n",
    "gas = ct.Solution('zahnle_earth_ct.yaml')\n",
    "gas()"
   ]
  },
  {
   "cell_type": "code",
   "execution_count": null,
   "id": "c35f1b87",
   "metadata": {},
   "outputs": [],
   "source": []
  },
  {
   "cell_type": "code",
   "execution_count": 15,
   "id": "f0b0d78a",
   "metadata": {},
   "outputs": [
    {
     "name": "stdout",
     "output_type": "stream",
     "text": [
      "\n",
      "  gas name:\n",
      "\n",
      "       temperature   300 K\n",
      "          pressure   1e+05 Pa\n",
      "           density   1.7149 kg/m^3\n",
      "  mean mol. weight   42.776 kg/kmol\n",
      "   phase of matter   gas\n",
      "\n",
      "                          1 kg             1 kmol     \n",
      "                     ---------------   ---------------\n",
      "          enthalpy       -6.6351e+06       -2.8382e+08  J\n",
      "   internal energy       -6.6934e+06       -2.8632e+08  J\n",
      "           entropy            5428.9        2.3223e+05  J/K\n",
      "    Gibbs function       -8.2637e+06       -3.5349e+08  J\n",
      " heat capacity c_p            1021.5             43694  J/K\n",
      " heat capacity c_v            827.09             35380  J/K\n",
      "\n",
      "                      mass frac. Y      mole frac. X     chem. pot. / RT\n",
      "                     ---------------   ---------------   ---------------\n",
      "                CO          0.019991           0.03053           -71.586\n",
      "               CO2            0.7426            0.7218           -183.82\n",
      "               CH4         0.0022326          0.005953           -57.555\n",
      "              C2H4         6.328e-06        9.6487e-06           -16.907\n",
      "              C2H6         0.0065461         0.0093121           -66.009\n",
      "             CH2CO        5.0635e-11        5.1525e-11           -80.039\n",
      "            CH3CHO        5.5332e-14        5.3728e-14           -129.14\n",
      "              C3H4        1.0784e-12        1.1514e-12            23.741\n",
      "              C3H6           0.22862            0.2324            -25.36\n",
      "              C4H4        1.7111e-08        1.4056e-08             64.39\n",
      "     [  +87 minor]         7.968e-16        4.2548e-15  \n",
      "\n"
     ]
    }
   ],
   "source": [
    "# equilibrate gas mixture equal parts of C, H and O\n",
    "# at 300 K and 1 bar.\n",
    "T = 300 # K\n",
    "P = 1e5 # Pa\n",
    "X = {\"H\":0.333,\"C\":0.333,\"O\":0.333} # mole fractions\n",
    "gas.TPX = T,P,X\n",
    "gas.equilibrate(\"TP\")\n",
    "gas()"
   ]
  }
 ],
 "metadata": {
  "kernelspec": {
   "display_name": "Python 3 (ipykernel)",
   "language": "python",
   "name": "python3"
  },
  "language_info": {
   "codemirror_mode": {
    "name": "ipython",
    "version": 3
   },
   "file_extension": ".py",
   "mimetype": "text/x-python",
   "name": "python",
   "nbconvert_exporter": "python",
   "pygments_lexer": "ipython3",
   "version": "3.9.7"
  }
 },
 "nbformat": 4,
 "nbformat_minor": 5
}
