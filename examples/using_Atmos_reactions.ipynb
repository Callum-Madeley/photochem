{
 "cells": [
  {
   "cell_type": "code",
   "execution_count": 1,
   "id": "2baa1c53",
   "metadata": {},
   "outputs": [
    {
     "name": "stdout",
     "output_type": "stream",
     "text": [
      "0.2.7\n"
     ]
    }
   ],
   "source": [
    "from photochem import __version__\n",
    "print(__version__)"
   ]
  },
  {
   "cell_type": "markdown",
   "id": "c0c60ee8",
   "metadata": {},
   "source": [
    "# Using Atmos reactions\n",
    "\n",
    "This notebook shows how to use reaction networks from [Atmos](https://github.com/VirtualPlanetaryLaboratory/atmos), which is a different photochemical model.\n",
    "\n",
    "First, we download Atmos"
   ]
  },
  {
   "cell_type": "code",
   "execution_count": 2,
   "id": "4332c1ee",
   "metadata": {},
   "outputs": [
    {
     "data": {
      "text/plain": [
       "CompletedProcess(args=['rm', '-rf', './atmos/.git'], returncode=0)"
      ]
     },
     "execution_count": 2,
     "metadata": {},
     "output_type": "execute_result"
    }
   ],
   "source": [
    "import subprocess\n",
    "\n",
    "subprocess.run(\"rm -rf ./atmos\".split())\n",
    "subprocess.run(\"git clone --depth=1 https://github.com/VirtualPlanetaryLaboratory/atmos.git\".split())\n",
    "subprocess.run(\"rm -rf ./atmos/.git\".split())"
   ]
  },
  {
   "cell_type": "markdown",
   "id": "8f3e20c0",
   "metadata": {},
   "source": [
    "Now we can use `atmos2yaml` to convert the reactions from the ModernEarthSimple template. Unfortunately, this function is not perfect\n",
    "\n",
    "- \"WEIRD\" reactions, which are hard-coded are skipped\n",
    "- Only some of the photolysis reactions will be used. Only the ones that Photochem has data for\n",
    "- Particle entry for S8AER is incomplete because sometimes it forms from reactions and sometimes is forms from condensation."
   ]
  },
  {
   "cell_type": "code",
   "execution_count": 2,
   "id": "93af8f76",
   "metadata": {},
   "outputs": [
    {
     "name": "stdout",
     "output_type": "stream",
     "text": [
      "Help on function atmos2yaml in module photochem.utils._convert_atmos:\n",
      "\n",
      "atmos2yaml(rx_file, species_file, outfile, photo_database='Photochem')\n",
      "    Converts Atmos reactions to .yaml format compatable with Photochem\n",
      "    \n",
      "    Parameters\n",
      "    ----------\n",
      "    rx_file : str\n",
      "        Path to Atmos reactions file (e.g. reactions.rx)\n",
      "    species_file : str\n",
      "        Path to Atmos species file (e.g. species.dat)\n",
      "    outfile : str\n",
      "        Name of output .yaml file in photochem format\n",
      "    photo_database : str\n",
      "        Options are \"Photochem\" or \"Atmos\". If \"Photochem\", then will use all\n",
      "        possible photolysis reactions given the cross section data contained\n",
      "        within Photochem. If \"Atmos\", then will photolysis reactions in\n",
      "        rx_file that are possible, given Photochem cross section data.\n",
      "\n"
     ]
    }
   ],
   "source": [
    "from photochem.utils import atmos2yaml\n",
    "help(atmos2yaml)"
   ]
  },
  {
   "cell_type": "code",
   "execution_count": 3,
   "id": "63306f32",
   "metadata": {},
   "outputs": [],
   "source": [
    "atmos2yaml(\"atmos/PHOTOCHEM/INPUTFILES/TEMPLATES/ModernEarthSimple/reactions.rx\",\\\n",
    "          \"atmos/PHOTOCHEM/INPUTFILES/TEMPLATES/ModernEarthSimple/species.dat\",\\\n",
    "          \"ModernEarthSimple.yaml\", photo_database='Photochem')"
   ]
  },
  {
   "cell_type": "code",
   "execution_count": 4,
   "id": "a4a8afe6",
   "metadata": {},
   "outputs": [],
   "source": [
    "# fix S8AER\n",
    "from photochem.utils._format import yaml, MyDumper, Loader, FormatReactions_main, FormatSettings_main\n",
    "\n",
    "fil = open(\"ModernEarthSimple.yaml\",'r')\n",
    "data = yaml.load(fil,Loader=Loader)\n",
    "fil.close()\n",
    "\n",
    "\n",
    "data['particles'][1]['formation'] = \"reaction\"\n",
    "data['particles'][1]['equation'] = \"S4 + S4 (+ M) => S8AER (+ M)\"\n",
    "data['particles'][1]['type'] = \"falloff\"\n",
    "data['particles'][1]['low-P-rate-constant'] = {\"A\": 9.0e-26, \"b\": -2.0, \"Ea\": 0.0}\n",
    "data['particles'][1]['high-P-rate-constant'] = {\"A\": 3.0e-11, \"b\": 0.0, \"Ea\": 0.0}\n",
    "\n",
    "data = FormatReactions_main(data)\n",
    "fil = open('ModernEarthSimple.yaml','w')\n",
    "yaml.dump(data,fil,Dumper=MyDumper,sort_keys=False,width=70)\n",
    "fil.close()"
   ]
  },
  {
   "cell_type": "markdown",
   "id": "905adc51",
   "metadata": {},
   "source": [
    "We also can scrape the boundary conditions from the species.dat file"
   ]
  },
  {
   "cell_type": "code",
   "execution_count": 5,
   "id": "bd77f685",
   "metadata": {},
   "outputs": [],
   "source": [
    "from photochem.utils._convert_atmos import atmosbc2yaml_main"
   ]
  },
  {
   "cell_type": "code",
   "execution_count": 18,
   "id": "8e99e027",
   "metadata": {},
   "outputs": [
    {
     "name": "stdout",
     "output_type": "stream",
     "text": [
      "boundary-conditions:\n",
      "- name: O\n",
      "  lower-boundary: {type: vdep, vdep: 1.0}\n",
      "  upper-boundary: {type: veff, veff: 0.0}\n",
      "- name: O2\n",
      "  lower-boundary: {type: mix, mix: 0.21}\n",
      "  upper-boundary: {type: veff, veff: 0.0}\n",
      "- name: H\n",
      "  lower-boundary: {type: vdep, vdep: 1.0}\n",
      "  upper-boundary: {type: veff, veff: 0.0}\n",
      "- name: OH\n",
      "  lower-boundary: {type: vdep, vdep: 1.0}\n",
      "  upper-boundary: {type: veff, veff: 0.0}\n",
      "- name: HO2\n",
      "  lower-boundary: {type: vdep, vdep: 1.0}\n",
      "  upper-boundary: {type: veff, veff: 0.0}\n",
      "- name: H2O2\n",
      "  lower-boundary: {type: vdep, vdep: 0.2}\n",
      "  upper-boundary: {type: veff, veff: 0.0}\n",
      "- name: H2\n",
      "  lower-boundary: {type: vdep, vdep: 0.00024}\n",
      "  upper-boundary: {type: veff, veff: 0.0}\n",
      "- name: CO\n",
      "  lower-boundary: {type: flux, flux: 370000000000.0}\n",
      "  upper-boundary: {type: veff, veff: 0.0}\n",
      "- name: HCO\n",
      "  lower-boundary: {type: vdep, vdep: 1.0}\n",
      "  upper-boundary: {type: veff, veff: 0.0}\n",
      "- name: H2CO\n",
      "  lower-boundary: {type: vdep, vdep: 0.2}\n",
      "  upper-boundary: {type: veff, veff: 0.0}\n",
      "- name: CH4\n",
      "  lower-boundary: {type: flux, flux: 100000000000.0}\n",
      "  upper-boundary: {type: veff, veff: 0.0}\n",
      "- name: CH3\n",
      "  lower-boundary: {type: vdep, vdep: 1.0}\n",
      "  upper-boundary: {type: veff, veff: 0.0}\n",
      "- name: C2H6\n",
      "  lower-boundary: {type: flux, flux: 900000000.0}\n",
      "  upper-boundary: {type: veff, veff: 0.0}\n",
      "- name: 'NO'\n",
      "  lower-boundary: {type: flux, flux: 1000000000.0}\n",
      "  upper-boundary: {type: veff, veff: 0.0}\n",
      "- name: NO2\n",
      "  lower-boundary: {type: vdep, vdep: 0.003}\n",
      "  upper-boundary: {type: veff, veff: 0.0}\n",
      "- name: HNO\n",
      "  lower-boundary: {type: vdep, vdep: 1.0}\n",
      "  upper-boundary: {type: veff, veff: 0.0}\n",
      "- name: H2S\n",
      "  lower-boundary: {type: flux, flux: 200000000.0}\n",
      "  upper-boundary: {type: veff, veff: 0.0}\n",
      "- name: SO2\n",
      "  lower-boundary: {type: vdep + dist flux, vdep: 1.0, flux: 9000000000.0,\n",
      "    height: 14.0}\n",
      "  upper-boundary: {type: veff, veff: 0.0}\n",
      "- name: H2SO4\n",
      "  lower-boundary: {type: flux, flux: 700000000.0}\n",
      "  upper-boundary: {type: veff, veff: 0.0}\n",
      "- name: HSO\n",
      "  lower-boundary: {type: vdep, vdep: 1.0}\n",
      "  upper-boundary: {type: veff, veff: 0.0}\n",
      "- name: OCS\n",
      "  lower-boundary: {type: flux, flux: 15000000.0}\n",
      "  upper-boundary: {type: veff, veff: 0.0}\n",
      "- name: HNO3\n",
      "  lower-boundary: {type: vdep, vdep: 0.2}\n",
      "  upper-boundary: {type: veff, veff: 0.0}\n",
      "- name: N2O\n",
      "  lower-boundary: {type: flux, flux: 1530000000.0}\n",
      "  upper-boundary: {type: veff, veff: 0.0}\n",
      "- name: HO2NO2\n",
      "  lower-boundary: {type: vdep, vdep: 0.2}\n",
      "  upper-boundary: {type: veff, veff: 0.0}\n",
      "- name: CO2\n",
      "  lower-boundary: {type: vdep + dist flux, vdep: 5.0e-05, flux: 687500000.0,\n",
      "    height: 14.0}\n",
      "  upper-boundary: {type: veff, veff: 0.0}\n",
      "- name: SO4AER\n",
      "  lower-boundary: {type: vdep, vdep: 0.01}\n",
      "  upper-boundary: {type: veff, veff: 0.0}\n",
      "- name: S8AER\n",
      "  lower-boundary: {type: vdep, vdep: 0.01}\n",
      "  upper-boundary: {type: veff, veff: 0.0}\n",
      "- name: H2O\n",
      "  lower-boundary: {type: mix, mix: 0.0175}\n",
      "  upper-boundary: {type: veff, veff: 0.0}\n",
      "\n"
     ]
    }
   ],
   "source": [
    "bc = atmosbc2yaml_main(\"atmos/PHOTOCHEM/INPUTFILES/TEMPLATES/ModernEarthSimple/species.dat\")\n",
    "# adding an H2O boundary condition\n",
    "bc += \\\n",
    "\"\"\"- name: H2O\n",
    "  lower-boundary: {type: mix, mix: 0.0175}\n",
    "  upper-boundary: {type: veff, veff: 0.0}\n",
    "\"\"\"\n",
    "print(bc)"
   ]
  },
  {
   "cell_type": "code",
   "execution_count": 19,
   "id": "72f79c42",
   "metadata": {},
   "outputs": [],
   "source": [
    "settings_file = \\\n",
    "\"\"\"\n",
    "atmosphere-grid:\n",
    "  bottom: 0.0\n",
    "  top: 1.0e7\n",
    "  number-of-layers: 200\n",
    "\n",
    "photolysis-grid:\n",
    "  regular-grid: true\n",
    "  lower-wavelength: 92.5\n",
    "  upper-wavelength: 855.0\n",
    "  number-of-bins: 200\n",
    "\n",
    "planet:\n",
    "  use-background-gas: true\n",
    "  background-gas: N2\n",
    "  surface-pressure: 1.013\n",
    "  planet-mass: 5.972e27\n",
    "  planet-radius: 6.371e8\n",
    "  surface-albedo: 0.25\n",
    "  diurnal-averaging-factor: 0.5\n",
    "  solar-zenith-angle: 50.0\n",
    "  diff-lim-hydrogen-escape: true\n",
    "  water:\n",
    "    fix-water-in-troposphere: false\n",
    "    gas-rainout: true\n",
    "    rainfall-rate: 1 \n",
    "    tropopause-altitude: 1.1e6 \n",
    "    water-condensation: true\n",
    "    condensation-rate: {A: 1.0e-5, rhc: 0.01, rh0: 0.015}\n",
    "\n",
    "particles:\n",
    "- name: SO4AER\n",
    "  condensation-rate: {A: 1.0e-5, rhc: 1.0, rh0: 1.05}\n",
    "\n",
    "\"\"\"\n",
    "\n",
    "settings_file += bc"
   ]
  },
  {
   "cell_type": "code",
   "execution_count": null,
   "id": "6ec8190d",
   "metadata": {},
   "outputs": [],
   "source": []
  },
  {
   "cell_type": "code",
   "execution_count": 20,
   "id": "9f0cc277",
   "metadata": {},
   "outputs": [],
   "source": [
    "# save the settings file\n",
    "from photochem.utils._format import yaml, MyDumper, Loader, FormatSettings_main, FormatReactions_main\n",
    "\n",
    "data = yaml.load(settings_file,Loader=Loader)\n",
    "data = FormatSettings_main(data)\n",
    "fil = open('settings_ModernEarthSimple.yaml','w')\n",
    "yaml.dump(data,fil,Dumper=MyDumper,sort_keys=False,width=70)\n",
    "fil.close()"
   ]
  },
  {
   "cell_type": "code",
   "execution_count": null,
   "id": "9c1469a2",
   "metadata": {},
   "outputs": [],
   "source": []
  },
  {
   "cell_type": "code",
   "execution_count": 21,
   "id": "f25b020c",
   "metadata": {},
   "outputs": [],
   "source": [
    "import numpy as np\n",
    "from matplotlib import pyplot as plt\n",
    "from IPython.display import clear_output\n",
    "from photochem import Atmosphere, zahnle_earth"
   ]
  },
  {
   "cell_type": "code",
   "execution_count": 22,
   "id": "11d2f2af",
   "metadata": {},
   "outputs": [],
   "source": [
    "pc = Atmosphere('ModernEarthSimple.yaml',\\\n",
    "                \"settings_ModernEarthSimple.yaml\",\\\n",
    "                \"../templates/ModernEarth/Sun_now.txt\",\\\n",
    "                \"../templates/ModernEarth/atmosphere_ModernEarth.txt\")"
   ]
  },
  {
   "cell_type": "code",
   "execution_count": 23,
   "id": "e1566601",
   "metadata": {},
   "outputs": [],
   "source": [
    "# intitialize with nothing in atmosphere\n",
    "init_cond = np.ones(pc.wrk.usol.shape,order='F')*1e-40\n",
    "pc.var.verbose=0\n",
    "pc.initialize_stepper(init_cond)"
   ]
  },
  {
   "cell_type": "code",
   "execution_count": null,
   "id": "3b1f12ce",
   "metadata": {},
   "outputs": [],
   "source": []
  },
  {
   "cell_type": "code",
   "execution_count": 24,
   "id": "3097b82b",
   "metadata": {},
   "outputs": [
    {
     "data": {
      "image/png": "[encoded data removed]",
      "text/plain": [
       "<Figure size 432x360 with 1 Axes>"
      ]
     },
     "metadata": {
      "needs_background": "light"
     },
     "output_type": "display_data"
    }
   ],
   "source": [
    "tn = 0\n",
    "while tn < 1e17:\n",
    "    clear_output(wait=True)\n",
    "    plt.rcParams.update({'font.size': 15})\n",
    "    fig,ax = plt.subplots(1,1,figsize=[6,5])\n",
    "    sol = pc.mole_fraction_dict()\n",
    "    species = ['H2O','O3','NO','NO2','N2O','HNO3']\n",
    "    for i,sp in enumerate(species):\n",
    "        ax.plot(sol[sp],sol['alt'],label=sp)\n",
    "    ax.set_xscale('log')\n",
    "    ax.set_ylabel('Altitude (km)')\n",
    "    ax.set_xlabel('Mixing ratio')\n",
    "    ax.set_xlim(1e-15,1)\n",
    "    ax.set_ylim(0,100)\n",
    "    ax.grid()\n",
    "    ax.text(0.02, 1.04, 't = '+'%.2e'%tn, \\\n",
    "        size = 15,ha='left', va='bottom',transform=ax.transAxes)\n",
    "    ax.legend(ncol=1,bbox_to_anchor=(1,1.0),loc='upper left')\n",
    "    plt.show()\n",
    "    for i in range(10):\n",
    "        tn = pc.step()"
   ]
  },
  {
   "cell_type": "code",
   "execution_count": 25,
   "id": "3a4fb2b8",
   "metadata": {},
   "outputs": [],
   "source": [
    "pc.destroy_stepper()"
   ]
  },
  {
   "cell_type": "markdown",
   "id": "7af3dc72",
   "metadata": {},
   "source": [
    "There is no O3! Because we are missing reactions that are labeled \"WEIRD\" that are relevant to making O3. These WEIRD reactions have to be implemented by hand :("
   ]
  },
  {
   "cell_type": "code",
   "execution_count": 26,
   "id": "f4012445",
   "metadata": {},
   "outputs": [
    {
     "name": "stdout",
     "output_type": "stream",
     "text": [
      "H2 + O => OH + H\n",
      "HO2 + HO2 => H2O2 + O2\n",
      "O + O => O2\n",
      "O + O2 => O3\n",
      "H + CO => HCO\n",
      "CO + OH => CO2 + H\n",
      "CO + O => CO2\n",
      "H2CO + H => H2 + HCO\n",
      "H + H => H2\n",
      "H + OH => H2O\n",
      "CH3 + CH3 => C2H6\n",
      "CH3 + H2CO => CH4 + HCO\n",
      "H + NO => HNO\n",
      "N + N => N2\n",
      "HNO3 + OH => H2O + NO3\n",
      "H + HNO => H2 + NO\n",
      "C2H6 + O => C2H5 + OH\n",
      "SO + O => SO2\n",
      "SO3 + H2O => H2SO4\n",
      "S + S => S2\n",
      "S2 + OH => HSO + S\n",
      "S + S2 => S3\n",
      "S2 + S2 => S4\n",
      "S + S3 => S4\n",
      "S4 + S4 => S8\n",
      "SO + HCO => HSO + CO\n",
      "S + CO => OCS\n",
      "CO + O1D => CO2\n",
      "OCS + S => OCS2\n",
      "N2O5 + M => NO3 + NO2\n",
      "HO2NO2 + M => HO2 + NO2\n"
     ]
    }
   ],
   "source": [
    "fil = open(\"ModernEarthSimple.yaml\",'r')\n",
    "data = yaml.load(fil,Loader=Loader)\n",
    "fil.close()\n",
    "\n",
    "for d in data['missing']:\n",
    "    print(d['equation'])"
   ]
  },
  {
   "cell_type": "code",
   "execution_count": null,
   "id": "fd7a9b27",
   "metadata": {},
   "outputs": [],
   "source": []
  }
 ],
 "metadata": {
  "kernelspec": {
   "display_name": "Python 3 (ipykernel)",
   "language": "python",
   "name": "python3"
  },
  "language_info": {
   "codemirror_mode": {
    "name": "ipython",
    "version": 3
   },
   "file_extension": ".py",
   "mimetype": "text/x-python",
   "name": "python",
   "nbconvert_exporter": "python",
   "pygments_lexer": "ipython3",
   "version": "3.10.4"
  }
 },
 "nbformat": 4,
 "nbformat_minor": 5
}
