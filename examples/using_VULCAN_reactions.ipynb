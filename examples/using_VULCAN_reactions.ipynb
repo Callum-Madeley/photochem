{
 "cells": [
  {
   "cell_type": "code",
   "execution_count": 1,
   "metadata": {},
   "outputs": [
    {
     "name": "stdout",
     "output_type": "stream",
     "text": [
      "Photochem version == 0.1.5\n"
     ]
    }
   ],
   "source": [
    "import pkg_resources\n",
    "print(\"Photochem version ==\",pkg_resources.require(\"Photochem\")[0].version)"
   ]
  },
  {
   "cell_type": "markdown",
   "metadata": {},
   "source": [
    "# Using VULCAN reaction networks\n",
    "\n",
    "This notebook shows how to use reaction networks from [VULCAN](https://github.com/exoclime/VULCAN), which is a different photochemical model.\n",
    "\n",
    "First, we download VULCAN from Github:"
   ]
  },
  {
   "cell_type": "code",
   "execution_count": 2,
   "metadata": {},
   "outputs": [
    {
     "name": "stderr",
     "output_type": "stream",
     "text": [
      "Cloning into 'VULCAN'...\n"
     ]
    },
    {
     "data": {
      "text/plain": [
       "CompletedProcess(args=['rm', '-rf', './VULCAN/.git'], returncode=0)"
      ]
     },
     "execution_count": 2,
     "metadata": {},
     "output_type": "execute_result"
    }
   ],
   "source": [
    "import subprocess\n",
    "\n",
    "subprocess.run(\"rm -rf ./VULCAN\".split())\n",
    "subprocess.run(\"git clone --depth=1 https://github.com/exoclime/VULCAN.git\".split())\n",
    "subprocess.run(\"rm -rf ./VULCAN/.git\".split())"
   ]
  },
  {
   "cell_type": "markdown",
   "metadata": {},
   "source": [
    "Next, we use the `vulcan2yaml` function to convert the `SNCHO_full_photo_network` reaction network into the Photochem yaml format.\n",
    "\n",
    "`vulcan2yaml` is not perfect. The main issue is that VULCAN and Photochem have different databases of photolysis cross sections. So `vulcan2yaml` only includes photolysis reactions with data."
   ]
  },
  {
   "cell_type": "code",
   "execution_count": 3,
   "metadata": {},
   "outputs": [],
   "source": [
    "from Photochem.utils import vulcan2yaml\n",
    "\n",
    "vulcan2yaml(\"VULCAN/thermo/SNCHO_full_photo_network.txt\",\\\n",
    "            \"VULCAN/thermo/all_compose.txt\", \\\n",
    "            outfile = \"SNCHO_full_photo_network.yaml\",\\\n",
    "            vulcan_nasa9_data_folder=\"VULCAN/thermo/NASA9\")"
   ]
  },
  {
   "cell_type": "markdown",
   "metadata": {},
   "source": [
    "Next, we need to put together a settings file which will work with the new network. Here I use the boundary conditions in `VULCAN/atm/BC_bot_Earth.txt`."
   ]
  },
  {
   "cell_type": "code",
   "execution_count": 4,
   "metadata": {},
   "outputs": [],
   "source": [
    "settings_file = \\\n",
    "\"\"\"\n",
    "atmosphere-grid:\n",
    "  bottom: 0.0\n",
    "  top: 1.0e7\n",
    "  number-of-layers: 200\n",
    "\n",
    "photolysis-grid:\n",
    "  regular-grid: true\n",
    "  lower-wavelength: 92.5\n",
    "  upper-wavelength: 855.0\n",
    "  number-of-bins: 200\n",
    "\n",
    "planet:\n",
    "  use-background-gas: true\n",
    "  background-gas: N2\n",
    "  surface-pressure: 1.013\n",
    "  planet-mass: 5.972e27\n",
    "  planet-radius: 6.371e8\n",
    "  surface-albedo: 0.25\n",
    "  diurnal-averaging-factor: 0.5\n",
    "  solar-zenith-angle: 50.0\n",
    "  diff-lim-hydrogen-escape: true\n",
    "  water:\n",
    "    fix-water-in-troposphere: false\n",
    "    gas-rainout: true\n",
    "    rainfall-rate: 1 # relative to modern earth's rainfall rate\n",
    "    tropopause-altitude: 1.1e6 # cm. required if gas-rainout or fix-water-in-troposphere\n",
    "    water-condensation: true\n",
    "    condensation-rate: {A: 1.0e-5, rhc: 0.01, rh0: 0.015}\n",
    "\n",
    "boundary-conditions:\n",
    "- name: H2O\n",
    "  lower-boundary: {type: mix, mix: 0.0175}\n",
    "  upper-boundary: {type: veff, veff: 0.0}\n",
    "- name: CO2\n",
    "  lower-boundary: {type: mix, mix: 4e-4}\n",
    "  upper-boundary: {type: veff, veff: 0.0}\n",
    "- name: O2\n",
    "  lower-boundary: {type: mix, mix: 0.2}\n",
    "  upper-boundary: {type: veff, veff: 0.0}\n",
    "- name: Ar\n",
    "  lower-boundary: {type: mix, mix: 9.34e-3}\n",
    "  upper-boundary: {type: veff, veff: 0.0}\n",
    "- name: CO\n",
    "  lower-boundary: {type: vdep + dist flux, vdep: 0.01, flux: 3.7e11, height: 2}\n",
    "  upper-boundary: {type: veff, veff: 0.0}\n",
    "- name: CH4\n",
    "  lower-boundary: {type: flux, flux: 1.2e11}\n",
    "  upper-boundary: {type: veff, veff: 0.0}\n",
    "- name: NH3\n",
    "  lower-boundary: {type: vdep + dist flux, vdep: 0.01, flux: 5.0e+10, height: 2}\n",
    "  upper-boundary: {type: veff, veff: 0.0}\n",
    "- name: N2O\n",
    "  lower-boundary: {type: flux, flux: 1.0e+9}\n",
    "  upper-boundary: {type: veff, veff: 0.0}\n",
    "- name: \"NO\"\n",
    "  lower-boundary: {type: vdep + dist flux, vdep: 0.016, flux: 1e9, height: 2}\n",
    "  upper-boundary: {type: veff, veff: 0.0}\n",
    "- name: NO2\n",
    "  lower-boundary: {type: vdep + dist flux, vdep: 0.1, flux: 1e9, height: 2}\n",
    "  upper-boundary: {type: veff, veff: 0.0}\n",
    "- name: HCN\n",
    "  lower-boundary: {type: vdep + dist flux, vdep: 0.1, flux: 4.4e+8, height: 2}\n",
    "  upper-boundary: {type: veff, veff: 0.0}\n",
    "- name: H2S\n",
    "  lower-boundary: {type: vdep + dist flux, vdep: 0.015, flux: 2e8, height: 2}\n",
    "  upper-boundary: {type: veff, veff: 0.0}\n",
    "- name: SO2\n",
    "  lower-boundary: {type: vdep + dist flux, vdep: 1, flux: 9e9, height: 2}\n",
    "  upper-boundary: {type: veff, veff: 0.0}\n",
    "- name: COS\n",
    "  lower-boundary: {type: vdep + dist flux, vdep: 1, flux: 9e9, height: 2}\n",
    "  upper-boundary: {type: veff, veff: 0.0}\n",
    "- name: H2SO4\n",
    "  lower-boundary: {type: vdep + dist flux, vdep: 1, flux: 7e8, height: 2}\n",
    "  upper-boundary: {type: veff, veff: 0.0}\n",
    "- name: H2\n",
    "  lower-boundary: {type: flux, flux: 1e6}\n",
    "  upper-boundary: {type: veff, veff: 0.0}\n",
    "\"\"\""
   ]
  },
  {
   "cell_type": "code",
   "execution_count": null,
   "metadata": {},
   "outputs": [],
   "source": []
  },
  {
   "cell_type": "code",
   "execution_count": 5,
   "metadata": {},
   "outputs": [],
   "source": [
    "# save the settings file\n",
    "from Photochem.utils._format import yaml, MyDumper, Loader, FormatSettings_main, FormatReactions_main\n",
    "\n",
    "data = yaml.load(settings_file,Loader=Loader)\n",
    "data = FormatSettings_main(data)\n",
    "fil = open('settings_vulcan.yaml','w')\n",
    "yaml.dump(data,fil,Dumper=MyDumper,sort_keys=False,width=70)\n",
    "fil.close()"
   ]
  },
  {
   "cell_type": "markdown",
   "metadata": {},
   "source": [
    "Now we have everything we need to do a calculation"
   ]
  },
  {
   "cell_type": "code",
   "execution_count": 6,
   "metadata": {},
   "outputs": [],
   "source": [
    "import numpy as np\n",
    "from matplotlib import pyplot as plt\n",
    "from IPython.display import clear_output\n",
    "from Photochem import Atmosphere, zahnle_earth"
   ]
  },
  {
   "cell_type": "code",
   "execution_count": 7,
   "metadata": {},
   "outputs": [
    {
     "ename": "PhotoException",
     "evalue": "IOError: This reaction is a duplicate: Ar => Ar",
     "output_type": "error",
     "traceback": [
      "\u001b[0;31m---------------------------------------------------------------------------\u001b[0m",
      "\u001b[0;31mPhotoException\u001b[0m                            Traceback (most recent call last)",
      "\u001b[0;32m/var/folders/sf/43vm953d201c4jw4yg22hnhc0000gn/T/ipykernel_71767/2952372134.py\u001b[0m in \u001b[0;36m<module>\u001b[0;34m\u001b[0m\n\u001b[0;32m----> 1\u001b[0;31m pc = Atmosphere('SNCHO_full_photo_network.yaml',\\\n\u001b[0m\u001b[1;32m      2\u001b[0m                 \u001b[0;34m\"settings_vulcan.yaml\"\u001b[0m\u001b[0;34m,\u001b[0m\u001b[0;31m\\\u001b[0m\u001b[0;34m\u001b[0m\u001b[0;34m\u001b[0m\u001b[0m\n\u001b[1;32m      3\u001b[0m                 \u001b[0;34m\"../templates/ModernEarth/Sun_now.txt\"\u001b[0m\u001b[0;34m,\u001b[0m\u001b[0;31m\\\u001b[0m\u001b[0;34m\u001b[0m\u001b[0;34m\u001b[0m\u001b[0m\n\u001b[1;32m      4\u001b[0m                 \"../templates/ModernEarth/atmosphere_ModernEarth.txt\")\n",
      "\u001b[0;32mAtmosphere.pyx\u001b[0m in \u001b[0;36m_Photochem.Atmosphere.__init__\u001b[0;34m()\u001b[0m\n",
      "\u001b[0;31mPhotoException\u001b[0m: IOError: This reaction is a duplicate: Ar => Ar"
     ]
    }
   ],
   "source": [
    "pc = Atmosphere('SNCHO_full_photo_network.yaml',\\\n",
    "                \"settings_vulcan.yaml\",\\\n",
    "                \"../templates/ModernEarth/Sun_now.txt\",\\\n",
    "                \"../templates/ModernEarth/atmosphere_ModernEarth.txt\")"
   ]
  },
  {
   "cell_type": "markdown",
   "metadata": {},
   "source": [
    "Photochem found a duplicate reaction. Its not an important one because its just Ar makeing Ar. But we need to get rid of it. So this code snippet fixes this."
   ]
  },
  {
   "cell_type": "code",
   "execution_count": 8,
   "metadata": {},
   "outputs": [],
   "source": [
    "fil = open(\"SNCHO_full_photo_network.yaml\",'r')\n",
    "lines = fil.readlines()\n",
    "fil.close()\n",
    "\n",
    "fil = open(\"SNCHO_full_photo_network.yaml\",'w')\n",
    "for line in lines:\n",
    "    line = line.replace(\"Ar <=> Ar\",\"Ar => Ar\")\n",
    "    fil.write(line)\n",
    "fil.close()    "
   ]
  },
  {
   "cell_type": "code",
   "execution_count": null,
   "metadata": {},
   "outputs": [],
   "source": []
  },
  {
   "cell_type": "code",
   "execution_count": 9,
   "metadata": {},
   "outputs": [
    {
     "name": "stdout",
     "output_type": "stream",
     "text": [
      " Warning: Did not find initial data for some species in ../templates/ModernEarth/atmosphere_ModernEarth.txt . The program will assume initial mixing ratios of 1.0e-40\n"
     ]
    }
   ],
   "source": [
    "pc = Atmosphere('SNCHO_full_photo_network.yaml',\\\n",
    "                \"settings_vulcan.yaml\",\\\n",
    "                \"../templates/ModernEarth/Sun_now.txt\",\\\n",
    "                \"../templates/ModernEarth/atmosphere_ModernEarth.txt\")"
   ]
  },
  {
   "cell_type": "code",
   "execution_count": 10,
   "metadata": {},
   "outputs": [],
   "source": [
    "# intitialize with nothing in atmosphere\n",
    "init_cond = np.ones(pc.wrk.usol.shape,order='F')*1e-40"
   ]
  },
  {
   "cell_type": "code",
   "execution_count": 11,
   "metadata": {},
   "outputs": [],
   "source": [
    "pc.initialize_stepper(init_cond)\n",
    "pc.var.verbose=0"
   ]
  },
  {
   "cell_type": "code",
   "execution_count": 12,
   "metadata": {},
   "outputs": [
    {
     "data": {
      "image/png": "[encoded data removed]",
      "text/plain": [
       "<Figure size 432x360 with 1 Axes>"
      ]
     },
     "metadata": {
      "needs_background": "light"
     },
     "output_type": "display_data"
    }
   ],
   "source": [
    "plt.rcParams.update({'font.size': 15})\n",
    "\n",
    "tn = 0\n",
    "while tn < 1e17:\n",
    "    clear_output(wait=True)\n",
    "    fig,ax = plt.subplots(1,1,figsize=[6,5])\n",
    "    sol = pc.mole_fraction_dict()\n",
    "    species = ['H2O','O3','NO','NO2','N2O','HNO3']\n",
    "    for i,sp in enumerate(species):\n",
    "        ax.plot(sol[sp],sol['alt'],label=sp)\n",
    "    ax.set_xscale('log')\n",
    "    ax.set_ylabel('Altitude (km)')\n",
    "    ax.set_xlabel('Mixing ratio')\n",
    "    ax.set_xlim(1e-15,1)\n",
    "    ax.set_ylim(0,100)\n",
    "    ax.grid()\n",
    "    ax.text(0.02, 1.04, 't = '+'%.2e'%tn, \\\n",
    "        size = 15,ha='left', va='bottom',transform=ax.transAxes)\n",
    "    ax.legend(ncol=1,bbox_to_anchor=(1,1.0),loc='upper left')\n",
    "    plt.show()\n",
    "    for i in range(10):\n",
    "        tn = pc.step()"
   ]
  },
  {
   "cell_type": "code",
   "execution_count": 13,
   "metadata": {},
   "outputs": [],
   "source": [
    "pc.destroy_stepper()"
   ]
  },
  {
   "cell_type": "markdown",
   "metadata": {},
   "source": [
    "These results are similar to Figure 9 in [the 2021 paper abount the VULCAN](https://arxiv.org/abs/2108.01790) photochemical model. Differences are probably mostly caused by different photolysis cross sections."
   ]
  },
  {
   "cell_type": "code",
   "execution_count": null,
   "metadata": {},
   "outputs": [],
   "source": []
  }
 ],
 "metadata": {
  "kernelspec": {
   "display_name": "Python 3 (ipykernel)",
   "language": "python",
   "name": "python3"
  },
  "language_info": {
   "codemirror_mode": {
    "name": "ipython",
    "version": 3
   },
   "file_extension": ".py",
   "mimetype": "text/x-python",
   "name": "python",
   "nbconvert_exporter": "python",
   "pygments_lexer": "ipython3",
   "version": "3.9.7"
  }
 },
 "nbformat": 4,
 "nbformat_minor": 4
}
