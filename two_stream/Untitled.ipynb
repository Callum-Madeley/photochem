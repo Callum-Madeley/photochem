{
 "cells": [
  {
   "cell_type": "code",
   "execution_count": 1,
   "metadata": {},
   "outputs": [],
   "source": [
    "from two_stream import radtran\n",
    "# from two_stream1 import radtran as radtran1\n",
    "import numpy as np"
   ]
  },
  {
   "cell_type": "code",
   "execution_count": 2,
   "metadata": {},
   "outputs": [
    {
     "name": "stdout",
     "output_type": "stream",
     "text": [
      "amean,surface_radiance = two_stream(tau,w0,u0,rsfc,[nz,method])\n",
      "\n",
      "Wrapper for ``two_stream``.\n",
      "\n",
      "Parameters\n",
      "----------\n",
      "tau : input rank-1 array('d') with bounds (nz)\n",
      "w0 : input rank-1 array('d') with bounds (nz)\n",
      "u0 : input float\n",
      "rsfc : input float\n",
      "\n",
      "Other Parameters\n",
      "----------------\n",
      "nz : input int, optional\n",
      "    Default: len(tau)\n",
      "method : input int\n",
      "\n",
      "Returns\n",
      "-------\n",
      "amean : rank-1 array('d') with bounds (nz + 1)\n",
      "surface_radiance : float\n",
      "\n"
     ]
    }
   ],
   "source": [
    "print(radtran.two_stream.__doc__)"
   ]
  },
  {
   "cell_type": "code",
   "execution_count": 18,
   "metadata": {},
   "outputs": [
    {
     "name": "stdout",
     "output_type": "stream",
     "text": [
      "[1.01570726 0.83442021] 0.8344202111734338 0.0 84.26082952273322\n",
      "[1.05457678 0.87463621] 0.8350934502556036 0.25 84.26082952273322\n",
      "[1.14127052 0.96433311] 0.8365950284502698 0.8 84.26082952273322\n",
      "[1.08485358 0.15621876] 0.15621876379553296 0.0 84.26082952273322\n",
      "[1.10385582 0.18344922] 0.1603328654046306 0.25 84.26082952273322\n",
      "[1.15260104 0.25330174] 0.1708865047861013 0.8 84.26082952273322\n",
      "[1.11875449 0.05448778] 0.054487781310804624 0.0 84.26082952273322\n",
      "[1.12700692 0.07703385] 0.06163459003327938 0.25 84.26082952273322\n",
      "[1.15588362 0.15592653] 0.08664253145794942 0.8 84.26082952273322\n",
      "[1.016897   0.96812163] 0.968121633338546 0.0 66.42182152179817\n",
      "[1.18371085 1.14071408] 0.9710109309543868 0.25 66.42182152179817\n",
      "[1.55576891 1.52566061] 0.977455159182887 0.8 66.42182152179817\n",
      "[1.1639553  0.69328606] 0.6932860608719392 0.0 66.42182152179817\n",
      "[1.27770136 0.85628562] 0.7179127807903888 0.25 66.42182152179817\n",
      "[1.56948678 1.27441786] 0.7810861162746341 0.8 66.42182152179817\n",
      "[1.37388243 0.3441514 ] 0.34415140204449257 0.0 66.42182152179817\n",
      "[1.42222016 0.47621264] 0.3860130793345341 0.25 66.42182152179817\n",
      "[1.59136237 0.93831814] 0.5324944550450198 0.8 66.42182152179817\n",
      "[1.01713464 0.99562799] 0.995627985652227 0.0 23.07391806563097\n",
      "[1.40616894 1.39813883] 1.0023662507366764 0.25 23.07391806563097\n",
      "[2.27386282 2.29589051] 1.0173951345146077 0.8 23.07391806563097\n",
      "[1.19110867 0.95010923] 0.9501092325048492 0.0 23.07391806563097\n",
      "[1.49272635 1.38233123] 1.0154113129226607 0.25 23.07391806563097\n",
      "[2.26644673 2.49108244] 1.1829265259804485 0.8 23.07391806563097\n",
      "[1.5715935  0.82174276] 0.821742762318715 0.0 23.07391806563097\n",
      "[1.72647034 1.24487453] 0.9558699757975919 0.25 23.07391806563097\n",
      "[2.26841167 2.72548706] 1.425204699642348 0.8 23.07391806563097\n"
     ]
    }
   ],
   "source": [
    "u0 = [0.1,0.1,0.1,0.4,0.4,0.4,0.92,0.92,0.92]\n",
    "taus = [0.02,0.25,1.0,0.02,0.25,1.0,0.02,0.25,1.0]\n",
    "tau = [np.array([a]) for a in taus]\n",
    "w0 = np.array([0.999999])\n",
    "rsfcs = [0.0,0.25,0.80]\n",
    "tops = []\n",
    "bottoms = []\n",
    "\n",
    "for i in range(len(u0)):\n",
    "    temp1 = []\n",
    "    temp2 = []\n",
    "    for rsfc in rsfcs:\n",
    "        amean, surface_radiance = radtran.two_stream(tau[i],w0,u0[i],rsfc)\n",
    "        print(amean,surface_radiance,rsfc,np.arccos(u0[i])*180/np.pi)\n",
    "        top, bottom = amean\n",
    "        temp1.append(top)\n",
    "        temp2.append(bottom)\n",
    "    tops.append(temp1)\n",
    "    bottoms.append(temp2)"
   ]
  },
  {
   "cell_type": "code",
   "execution_count": 14,
   "metadata": {},
   "outputs": [
    {
     "data": {
      "text/plain": [
       "0.9396926207859084"
      ]
     },
     "execution_count": 14,
     "metadata": {},
     "output_type": "execute_result"
    }
   ],
   "source": [
    "phi = 20\n",
    "np.cos(np.pi/180*phi)"
   ]
  },
  {
   "cell_type": "code",
   "execution_count": 17,
   "metadata": {},
   "outputs": [
    {
     "data": {
      "text/plain": [
       "19.999999999999993"
      ]
     },
     "execution_count": 17,
     "metadata": {},
     "output_type": "execute_result"
    }
   ],
   "source": [
    "np.arccos(0.9396926207859084)*180/np.pi"
   ]
  },
  {
   "cell_type": "code",
   "execution_count": null,
   "metadata": {},
   "outputs": [],
   "source": []
  },
  {
   "cell_type": "code",
   "execution_count": 19,
   "metadata": {},
   "outputs": [
    {
     "name": "stdout",
     "output_type": "stream",
     "text": [
      "1.016   1.055   1.141\n",
      "1.085   1.104   1.153\n",
      "1.119   1.127   1.156\n",
      "1.017   1.184   1.556\n",
      "1.164   1.278   1.569\n",
      "1.374   1.422   1.591\n",
      "1.017   1.406   2.274\n",
      "1.191   1.493   2.266\n",
      "1.572   1.726   2.268\n",
      "\n",
      "0.834   0.875   0.964\n",
      "0.156   0.183   0.253\n",
      "0.054   0.077   0.156\n",
      "0.968   1.141   1.526\n",
      "0.693   0.856   1.274\n",
      "0.344   0.476   0.938\n",
      "0.996   1.398   2.296\n",
      "0.950   1.382   2.491\n",
      "0.822   1.245   2.725\n"
     ]
    }
   ],
   "source": [
    "for i in range(len(u0)):\n",
    "    print('%.3f'%tops[i][0],' ','%.3f'%tops[i][1],' ','%.3f'%tops[i][2])\n",
    "print()\n",
    "for i in range(len(u0)):\n",
    "    print('%.3f'%bottoms[i][0],' ','%.3f'%bottoms[i][1],' ','%.3f'%bottoms[i][2])"
   ]
  },
  {
   "cell_type": "code",
   "execution_count": 43,
   "metadata": {},
   "outputs": [
    {
     "data": {
      "text/plain": [
       "0.8393384909154898"
      ]
     },
     "execution_count": 43,
     "metadata": {},
     "output_type": "execute_result"
    }
   ],
   "source": [
    "n = 200\n",
    "tau = np.ones(n)*.001\n",
    "w0 = np.ones(n)*.999999999\n",
    "rsfc = .25\n",
    "u0 = 0.5\n",
    "\n",
    "radtran.two_stream(tau,w0,u0,rsfc)[1]"
   ]
  },
  {
   "cell_type": "code",
   "execution_count": null,
   "metadata": {},
   "outputs": [],
   "source": []
  },
  {
   "cell_type": "code",
   "execution_count": null,
   "metadata": {},
   "outputs": [],
   "source": []
  },
  {
   "cell_type": "code",
   "execution_count": 30,
   "metadata": {},
   "outputs": [
    {
     "name": "stdout",
     "output_type": "stream",
     "text": [
      "23.5 µs ± 279 ns per loop (mean ± std. dev. of 7 runs, 10000 loops each)\n"
     ]
    }
   ],
   "source": [
    "%timeit radtran.two_stream(tau,w0,u0,rsfc)"
   ]
  },
  {
   "cell_type": "code",
   "execution_count": null,
   "metadata": {},
   "outputs": [],
   "source": []
  },
  {
   "cell_type": "code",
   "execution_count": null,
   "metadata": {},
   "outputs": [],
   "source": []
  }
 ],
 "metadata": {
  "kernelspec": {
   "display_name": "Python 3",
   "language": "python",
   "name": "python3"
  },
  "language_info": {
   "codemirror_mode": {
    "name": "ipython",
    "version": 3
   },
   "file_extension": ".py",
   "mimetype": "text/x-python",
   "name": "python",
   "nbconvert_exporter": "python",
   "pygments_lexer": "ipython3",
   "version": "3.8.5"
  }
 },
 "nbformat": 4,
 "nbformat_minor": 4
}
