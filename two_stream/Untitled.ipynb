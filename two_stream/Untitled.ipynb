{
 "cells": [
  {
   "cell_type": "code",
   "execution_count": 1,
   "metadata": {},
   "outputs": [],
   "source": [
    "from two_stream import radtran\n",
    "# from two_stream1 import radtran as radtran1\n",
    "import numpy as np"
   ]
  },
  {
   "cell_type": "code",
   "execution_count": 7,
   "metadata": {},
   "outputs": [],
   "source": [
    "import numpy as np\n",
    "from twostream import radtran\n",
    "from twostream_photo import twostr"
   ]
  },
  {
   "cell_type": "code",
   "execution_count": 21,
   "metadata": {},
   "outputs": [],
   "source": []
  },
  {
   "cell_type": "code",
   "execution_count": 22,
   "metadata": {},
   "outputs": [
    {
     "name": "stdout",
     "output_type": "stream",
     "text": [
      "amean,surface_radiance,ierr = two_stream(tau,w0,u0,rsfc,[nz,method])\n",
      "\n",
      "Wrapper for ``two_stream``.\n",
      "\n",
      "Parameters\n",
      "----------\n",
      "tau : input rank-1 array('d') with bounds (nz)\n",
      "w0 : input rank-1 array('d') with bounds (nz)\n",
      "u0 : input float\n",
      "rsfc : input float\n",
      "\n",
      "Other Parameters\n",
      "----------------\n",
      "nz : input int, optional\n",
      "    Default: len(tau)\n",
      "method : input int\n",
      "\n",
      "Returns\n",
      "-------\n",
      "amean : rank-1 array('d') with bounds (nz + 1)\n",
      "surface_radiance : float\n",
      "ierr : int\n",
      "\n"
     ]
    }
   ],
   "source": [
    "print(radtran.two_stream.__doc__)"
   ]
  },
  {
   "cell_type": "code",
   "execution_count": 23,
   "metadata": {},
   "outputs": [
    {
     "name": "stdout",
     "output_type": "stream",
     "text": [
      "amean = twostr(tau,w0,u0,alb,[nz])\n",
      "\n",
      "Wrapper for ``twostr``.\n",
      "\n",
      "Parameters\n",
      "----------\n",
      "tau : input rank-1 array('d') with bounds (nz)\n",
      "w0 : input rank-1 array('d') with bounds (nz)\n",
      "u0 : input float\n",
      "alb : input float\n",
      "\n",
      "Other Parameters\n",
      "----------------\n",
      "nz : input int, optional\n",
      "    Default: len(tau)\n",
      "\n",
      "Returns\n",
      "-------\n",
      "amean : rank-1 array('d') with bounds (nz + 1)\n",
      "\n"
     ]
    }
   ],
   "source": [
    "print(twostr.__doc__)"
   ]
  },
  {
   "cell_type": "code",
   "execution_count": 1,
   "metadata": {},
   "outputs": [],
   "source": [
    "import numpy as np\n",
    "from twostream import radtran\n",
    "from twostream_photo import twostr"
   ]
  },
  {
   "cell_type": "code",
   "execution_count": 2,
   "metadata": {},
   "outputs": [],
   "source": [
    "tau,w0 = np.loadtxt('tau.txt').T\n",
    "\n",
    "n = len(tau)\n",
    "rsfc = .25\n",
    "u0 = np.cos(np.pi*50/180)"
   ]
  },
  {
   "cell_type": "code",
   "execution_count": 3,
   "metadata": {},
   "outputs": [
    {
     "data": {
      "text/plain": [
       "0.6427876096865394"
      ]
     },
     "execution_count": 3,
     "metadata": {},
     "output_type": "execute_result"
    }
   ],
   "source": [
    "np.cos(np.pi*50/180)"
   ]
  },
  {
   "cell_type": "code",
   "execution_count": 4,
   "metadata": {},
   "outputs": [
    {
     "name": "stdout",
     "output_type": "stream",
     "text": [
      "1.0532640971858396 1.053264096609574\n"
     ]
    }
   ],
   "source": [
    "amean, surface_radiance, ierr = radtran.two_stream(tau,w0,u0,rsfc)\n",
    "amean1 = twostr(tau,w0,u0,rsfc)\n",
    "print(amean[0],amean1[0])"
   ]
  },
  {
   "cell_type": "code",
   "execution_count": 6,
   "metadata": {},
   "outputs": [
    {
     "name": "stderr",
     "output_type": "stream",
     "text": [
      "<ipython-input-6-40e52e419d05>:1: RuntimeWarning: invalid value encountered in true_divide\n",
      "  amean/amean1\n"
     ]
    },
    {
     "data": {
      "text/plain": [
       "array([1.        , 1.        , 1.        , 1.        , 1.        ,\n",
       "       1.        , 1.        , 1.        , 1.        , 1.        ,\n",
       "       1.        , 1.        , 1.        , 1.        , 1.        ,\n",
       "       1.        , 1.        , 1.        , 1.        , 1.        ,\n",
       "       1.        , 1.        , 1.        , 1.        , 1.        ,\n",
       "       1.        , 1.        , 1.        , 1.        , 1.        ,\n",
       "       1.        , 1.        , 1.        , 1.        , 1.        ,\n",
       "       1.        , 1.        , 1.        , 1.        , 1.        ,\n",
       "       1.        , 1.        , 1.        , 1.        , 1.        ,\n",
       "       1.        , 1.        , 1.        , 1.        , 1.        ,\n",
       "       1.        , 1.        , 1.        , 1.        , 1.        ,\n",
       "       1.        , 1.        , 1.        , 1.        , 1.        ,\n",
       "       1.        , 1.        , 1.        , 1.        , 1.        ,\n",
       "       1.        , 1.        , 1.        , 1.        , 1.        ,\n",
       "       1.        , 1.        , 1.        , 1.        , 1.        ,\n",
       "       1.        , 1.        , 1.        , 1.        , 1.        ,\n",
       "       1.        , 1.        , 1.        , 1.        , 1.        ,\n",
       "       1.        , 1.        , 1.        , 1.        , 1.        ,\n",
       "       1.        , 1.        , 1.        , 1.        , 1.        ,\n",
       "       1.        , 1.        , 1.        , 1.        , 1.        ,\n",
       "       1.        , 1.        , 1.        , 1.        , 1.        ,\n",
       "       1.        , 1.        , 1.        , 1.        , 1.        ,\n",
       "       1.        , 1.        , 1.        , 1.        , 1.        ,\n",
       "       1.        , 1.        , 1.        , 1.        , 1.        ,\n",
       "       1.        , 1.        , 1.        , 1.        , 1.        ,\n",
       "       1.        , 1.        , 1.        , 1.        , 1.        ,\n",
       "       1.        , 1.        , 1.        , 1.        , 1.        ,\n",
       "       1.        , 1.        , 1.        , 1.        , 1.        ,\n",
       "       1.        , 1.        , 1.        , 1.        , 1.        ,\n",
       "       1.        , 0.99999999, 0.99999999, 0.99999999, 0.99999999,\n",
       "       0.99999999, 0.99999999, 0.99999998, 0.99999998, 0.99999998,\n",
       "       0.99999997, 0.99999997, 0.99999997, 0.99999996, 0.99999996,\n",
       "       0.99999995, 0.99999995, 0.99999994, 0.99999993, 0.99999992,\n",
       "       0.99999991, 0.9999999 , 0.99999989, 0.99999988, 0.99999987,\n",
       "       0.99999985, 0.99999984, 0.99999982, 0.99999981, 0.99999979,\n",
       "       0.99999976, 0.99999974, 0.99999972, 0.99999969, 0.99999962,\n",
       "       0.9999995 , 0.9999993 , 0.99999895, 1.00000001, 0.99999996,\n",
       "       0.99999998, 0.99999999, 0.99999999, 1.        ,        nan,\n",
       "              nan,        nan,        nan,        nan,        nan,\n",
       "              nan,        nan,        nan,        nan,        nan,\n",
       "              nan])"
      ]
     },
     "execution_count": 6,
     "metadata": {},
     "output_type": "execute_result"
    }
   ],
   "source": [
    "amean/amean1"
   ]
  },
  {
   "cell_type": "code",
   "execution_count": 27,
   "metadata": {},
   "outputs": [
    {
     "data": {
      "text/plain": [
       "array([1.05326410e+000, 1.05326397e+000, 1.05326383e+000, 1.05326367e+000,\n",
       "       1.05326351e+000, 1.05326332e+000, 1.05326312e+000, 1.05326290e+000,\n",
       "       1.05326266e+000, 1.05326240e+000, 1.05326211e+000, 1.05326180e+000,\n",
       "       1.05326146e+000, 1.05326108e+000, 1.05326067e+000, 1.05326023e+000,\n",
       "       1.05325974e+000, 1.05325920e+000, 1.05325861e+000, 1.05325797e+000,\n",
       "       1.05325727e+000, 1.05325651e+000, 1.05325567e+000, 1.05325475e+000,\n",
       "       1.05325375e+000, 1.05325265e+000, 1.05325145e+000, 1.05325013e+000,\n",
       "       1.05324870e+000, 1.05324713e+000, 1.05324541e+000, 1.05324352e+000,\n",
       "       1.05324146e+000, 1.05323921e+000, 1.05323674e+000, 1.05323404e+000,\n",
       "       1.05323108e+000, 1.05322785e+000, 1.05322430e+000, 1.05322042e+000,\n",
       "       1.05321617e+000, 1.05321152e+000, 1.05320642e+000, 1.05320084e+000,\n",
       "       1.05319472e+000, 1.05318801e+000, 1.05318067e+000, 1.05317261e+000,\n",
       "       1.05316378e+000, 1.05315410e+000, 1.05314347e+000, 1.05313182e+000,\n",
       "       1.05311903e+000, 1.05310500e+000, 1.05308958e+000, 1.05307266e+000,\n",
       "       1.05305406e+000, 1.05303362e+000, 1.05301115e+000, 1.05298643e+000,\n",
       "       1.05295923e+000, 1.05292929e+000, 1.05289632e+000, 1.05285998e+000,\n",
       "       1.05281992e+000, 1.05277573e+000, 1.05272695e+000, 1.05267307e+000,\n",
       "       1.05261351e+000, 1.05254765e+000, 1.05247474e+000, 1.05239398e+000,\n",
       "       1.05230445e+000, 1.05220511e+000, 1.05209480e+000, 1.05197219e+000,\n",
       "       1.05183579e+000, 1.05168391e+000, 1.05151463e+000, 1.05132578e+000,\n",
       "       1.05111489e+000, 1.05087917e+000, 1.05061546e+000, 1.05032015e+000,\n",
       "       1.04998919e+000, 1.04961796e+000, 1.04920103e+000, 1.04873189e+000,\n",
       "       1.04820286e+000, 1.04760505e+000, 1.04692807e+000, 1.04615984e+000,\n",
       "       1.04528628e+000, 1.04429102e+000, 1.04315500e+000, 1.04185612e+000,\n",
       "       1.04036877e+000, 1.03866340e+000, 1.03670596e+000, 1.03445745e+000,\n",
       "       1.03187334e+000, 1.02890312e+000, 1.02548977e+000, 1.02156939e+000,\n",
       "       1.01707085e+000, 1.01191556e+000, 1.00601732e+000, 9.99282450e-001,\n",
       "       9.91610081e-001, 9.82892663e-001, 9.73016679e-001, 9.61863592e-001,\n",
       "       9.49311048e-001, 9.35234328e-001, 9.19508078e-001, 9.02008308e-001,\n",
       "       8.82614704e-001, 8.61213244e-001, 8.37699201e-001, 8.11980646e-001,\n",
       "       7.83982795e-001, 7.53654063e-001, 7.20975702e-001, 6.85978776e-001,\n",
       "       6.48773945e-001, 6.09596291e-001, 5.68845280e-001, 5.27052260e-001,\n",
       "       4.84732934e-001, 4.42323279e-001, 4.00240346e-001, 3.58906531e-001,\n",
       "       3.18746522e-001, 2.80176346e-001, 2.43586701e-001, 2.09326261e-001,\n",
       "       1.77686272e-001, 1.48887483e-001, 1.23070724e-001, 1.00292546e-001,\n",
       "       8.05264409e-002, 6.36675379e-002, 4.95418237e-002, 3.79205053e-002,\n",
       "       2.85367222e-002, 2.11029282e-002, 1.53273218e-002, 1.09279928e-002,\n",
       "       7.64389319e-003, 5.24225546e-003, 3.52255804e-003, 2.31749945e-003,\n",
       "       1.49165417e-003, 9.38541622e-004, 5.76786328e-004, 3.45928640e-004,\n",
       "       2.02303590e-004, 1.15268273e-004, 6.39388534e-005, 3.45027522e-005,\n",
       "       1.81008177e-005, 9.22730358e-006, 4.56977373e-006, 2.19916983e-006,\n",
       "       1.02900727e-006, 4.68420532e-007, 2.07362083e-007, 8.91445367e-008,\n",
       "       3.71456008e-008, 1.49599861e-008, 5.79967930e-009, 2.15282913e-009,\n",
       "       7.59258932e-010, 2.51991833e-010, 7.79293169e-011, 2.22135843e-011,\n",
       "       5.81028373e-012, 1.38387698e-012, 2.68369370e-013, 5.46355097e-015,\n",
       "       7.83034882e-018, 8.80374153e-023, 4.40333522e-031, 2.12736881e-044,\n",
       "       9.21283911e-065, 4.54860308e-095, 1.25657920e-141, 3.06784641e-212,\n",
       "       6.30040911e-318, 0.00000000e+000, 0.00000000e+000, 0.00000000e+000,\n",
       "       0.00000000e+000, 0.00000000e+000, 0.00000000e+000, 0.00000000e+000,\n",
       "       0.00000000e+000, 0.00000000e+000, 0.00000000e+000, 0.00000000e+000,\n",
       "       0.00000000e+000])"
      ]
     },
     "execution_count": 27,
     "metadata": {},
     "output_type": "execute_result"
    }
   ],
   "source": [
    "amean"
   ]
  },
  {
   "cell_type": "code",
   "execution_count": null,
   "metadata": {},
   "outputs": [],
   "source": []
  },
  {
   "cell_type": "code",
   "execution_count": 8,
   "metadata": {},
   "outputs": [
    {
     "name": "stdout",
     "output_type": "stream",
     "text": [
      "[1.01570726 0.83442021] 0.8344202111734338 0.0 84.26082952273322\n",
      "[1.05457678 0.87463621] 0.8350934502556036 0.25 84.26082952273322\n",
      "[1.14127052 0.96433311] 0.8365950284502698 0.8 84.26082952273322\n",
      "[1.08485358 0.15621876] 0.15621876379553296 0.0 84.26082952273322\n",
      "[1.10385582 0.18344922] 0.1603328654046306 0.25 84.26082952273322\n",
      "[1.15260104 0.25330174] 0.1708865047861013 0.8 84.26082952273322\n",
      "[1.11875449 0.05448778] 0.054487781310804624 0.0 84.26082952273322\n",
      "[1.12700692 0.07703385] 0.06163459003327938 0.25 84.26082952273322\n",
      "[1.15588362 0.15592653] 0.08664253145794942 0.8 84.26082952273322\n",
      "[1.016897   0.96812163] 0.968121633338546 0.0 66.42182152179817\n",
      "[1.18371085 1.14071408] 0.9710109309543868 0.25 66.42182152179817\n",
      "[1.55576891 1.52566061] 0.977455159182887 0.8 66.42182152179817\n",
      "[1.1639553  0.69328606] 0.6932860608719392 0.0 66.42182152179817\n",
      "[1.27770136 0.85628562] 0.7179127807903888 0.25 66.42182152179817\n",
      "[1.56948678 1.27441786] 0.7810861162746341 0.8 66.42182152179817\n",
      "[1.37388243 0.3441514 ] 0.34415140204449257 0.0 66.42182152179817\n",
      "[1.42222016 0.47621264] 0.3860130793345341 0.25 66.42182152179817\n",
      "[1.59136237 0.93831814] 0.5324944550450198 0.8 66.42182152179817\n",
      "[1.01713464 0.99562799] 0.995627985652227 0.0 23.07391806563097\n",
      "[1.40616894 1.39813883] 1.0023662507366764 0.25 23.07391806563097\n",
      "[2.27386282 2.29589051] 1.0173951345146077 0.8 23.07391806563097\n",
      "[1.19110867 0.95010923] 0.9501092325048492 0.0 23.07391806563097\n",
      "[1.49272635 1.38233123] 1.0154113129226607 0.25 23.07391806563097\n",
      "[2.26644673 2.49108244] 1.1829265259804485 0.8 23.07391806563097\n",
      "[1.5715935  0.82174276] 0.821742762318715 0.0 23.07391806563097\n",
      "[1.72647034 1.24487453] 0.9558699757975919 0.25 23.07391806563097\n",
      "[2.26841167 2.72548706] 1.425204699642348 0.8 23.07391806563097\n"
     ]
    }
   ],
   "source": [
    "u0 = [0.1,0.1,0.1,0.4,0.4,0.4,0.92,0.92,0.92]\n",
    "taus = [0.02,0.25,1.0,0.02,0.25,1.0,0.02,0.25,1.0]\n",
    "tau = [np.array([a]) for a in taus]\n",
    "w0 = np.array([0.999999])\n",
    "rsfcs = [0.0,0.25,0.80]\n",
    "tops = []\n",
    "bottoms = []\n",
    "\n",
    "for i in range(len(u0)):\n",
    "    temp1 = []\n",
    "    temp2 = []\n",
    "    for rsfc in rsfcs:\n",
    "        amean, surface_radiance, ierr = radtran.two_stream(tau[i],w0,u0[i],rsfc)\n",
    "        print(amean,surface_radiance,rsfc,np.arccos(u0[i])*180/np.pi)\n",
    "        top, bottom = amean\n",
    "        temp1.append(top)\n",
    "        temp2.append(bottom)\n",
    "    tops.append(temp1)\n",
    "    bottoms.append(temp2)"
   ]
  },
  {
   "cell_type": "code",
   "execution_count": 14,
   "metadata": {},
   "outputs": [
    {
     "data": {
      "text/plain": [
       "0.9396926207859084"
      ]
     },
     "execution_count": 14,
     "metadata": {},
     "output_type": "execute_result"
    }
   ],
   "source": [
    "phi = 20\n",
    "np.cos(np.pi/180*phi)"
   ]
  },
  {
   "cell_type": "code",
   "execution_count": 17,
   "metadata": {},
   "outputs": [
    {
     "data": {
      "text/plain": [
       "19.999999999999993"
      ]
     },
     "execution_count": 17,
     "metadata": {},
     "output_type": "execute_result"
    }
   ],
   "source": [
    "np.arccos(0.9396926207859084)*180/np.pi"
   ]
  },
  {
   "cell_type": "code",
   "execution_count": null,
   "metadata": {},
   "outputs": [],
   "source": []
  },
  {
   "cell_type": "code",
   "execution_count": 9,
   "metadata": {},
   "outputs": [
    {
     "name": "stdout",
     "output_type": "stream",
     "text": [
      "1.016   1.055   1.141\n",
      "1.085   1.104   1.153\n",
      "1.119   1.127   1.156\n",
      "1.017   1.184   1.556\n",
      "1.164   1.278   1.569\n",
      "1.374   1.422   1.591\n",
      "1.017   1.406   2.274\n",
      "1.191   1.493   2.266\n",
      "1.572   1.726   2.268\n",
      "\n",
      "0.834   0.875   0.964\n",
      "0.156   0.183   0.253\n",
      "0.054   0.077   0.156\n",
      "0.968   1.141   1.526\n",
      "0.693   0.856   1.274\n",
      "0.344   0.476   0.938\n",
      "0.996   1.398   2.296\n",
      "0.950   1.382   2.491\n",
      "0.822   1.245   2.725\n"
     ]
    }
   ],
   "source": [
    "for i in range(len(u0)):\n",
    "    print('%.3f'%tops[i][0],' ','%.3f'%tops[i][1],' ','%.3f'%tops[i][2])\n",
    "print()\n",
    "for i in range(len(u0)):\n",
    "    print('%.3f'%bottoms[i][0],' ','%.3f'%bottoms[i][1],' ','%.3f'%bottoms[i][2])"
   ]
  },
  {
   "cell_type": "code",
   "execution_count": 43,
   "metadata": {},
   "outputs": [
    {
     "data": {
      "text/plain": [
       "0.8393384909154898"
      ]
     },
     "execution_count": 43,
     "metadata": {},
     "output_type": "execute_result"
    }
   ],
   "source": [
    "n = 200\n",
    "tau = np.ones(n)*.001\n",
    "w0 = np.ones(n)*.999999999\n",
    "rsfc = .25\n",
    "u0 = 0.5\n",
    "\n",
    "radtran.two_stream(tau,w0,u0,rsfc)[1]"
   ]
  },
  {
   "cell_type": "code",
   "execution_count": null,
   "metadata": {},
   "outputs": [],
   "source": []
  },
  {
   "cell_type": "code",
   "execution_count": null,
   "metadata": {},
   "outputs": [],
   "source": []
  },
  {
   "cell_type": "code",
   "execution_count": 30,
   "metadata": {},
   "outputs": [
    {
     "name": "stdout",
     "output_type": "stream",
     "text": [
      "23.5 µs ± 279 ns per loop (mean ± std. dev. of 7 runs, 10000 loops each)\n"
     ]
    }
   ],
   "source": [
    "%timeit radtran.two_stream(tau,w0,u0,rsfc)"
   ]
  },
  {
   "cell_type": "code",
   "execution_count": null,
   "metadata": {},
   "outputs": [],
   "source": []
  },
  {
   "cell_type": "code",
   "execution_count": null,
   "metadata": {},
   "outputs": [],
   "source": []
  }
 ],
 "metadata": {
  "kernelspec": {
   "display_name": "Python 3",
   "language": "python",
   "name": "python3"
  },
  "language_info": {
   "codemirror_mode": {
    "name": "ipython",
    "version": 3
   },
   "file_extension": ".py",
   "mimetype": "text/x-python",
   "name": "python",
   "nbconvert_exporter": "python",
   "pygments_lexer": "ipython3",
   "version": "3.8.5"
  }
 },
 "nbformat": 4,
 "nbformat_minor": 4
}
