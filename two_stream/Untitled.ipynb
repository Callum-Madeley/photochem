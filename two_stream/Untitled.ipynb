{
 "cells": [
  {
   "cell_type": "code",
   "execution_count": 1,
   "metadata": {},
   "outputs": [],
   "source": [
    "from two_stream import radtran\n",
    "from two_stream1 import radtran as radtran1\n",
    "import numpy as np"
   ]
  },
  {
   "cell_type": "code",
   "execution_count": 2,
   "metadata": {},
   "outputs": [
    {
     "name": "stdout",
     "output_type": "stream",
     "text": [
      "amean = two_stream(tau,w0,u0,rsfc,[nz,method])\n",
      "\n",
      "Wrapper for ``two_stream``.\n",
      "\n",
      "Parameters\n",
      "----------\n",
      "tau : input rank-1 array('d') with bounds (nz)\n",
      "w0 : input rank-1 array('d') with bounds (nz)\n",
      "u0 : input float\n",
      "rsfc : input float\n",
      "\n",
      "Other Parameters\n",
      "----------------\n",
      "nz : input int, optional\n",
      "    Default: len(tau)\n",
      "method : input int\n",
      "\n",
      "Returns\n",
      "-------\n",
      "amean : rank-1 array('d') with bounds (nz + 1)\n",
      "\n"
     ]
    }
   ],
   "source": [
    "print(radtran.two_stream.__doc__)"
   ]
  },
  {
   "cell_type": "code",
   "execution_count": 3,
   "metadata": {},
   "outputs": [],
   "source": [
    "u0 = [0.1,0.1,0.1,0.4,0.4,0.4,0.92,0.92,0.92]\n",
    "taus = [0.02,0.25,1.0,0.02,0.25,1.0,0.02,0.25,1.0]\n",
    "tau = [np.array([a]) for a in taus]\n",
    "w0 = np.array([0.999999])\n",
    "rsfcs = [0.0,0.25,0.80]\n",
    "tops = []\n",
    "bottoms = []\n",
    "\n",
    "for i in range(len(u0)):\n",
    "    temp1 = []\n",
    "    temp2 = []\n",
    "    for rsfc in rsfcs:\n",
    "        top,bottom = radtran.two_stream(tau[i],w0,u0[i],rsfc)\n",
    "        temp1.append(top)\n",
    "        temp2.append(bottom)\n",
    "    tops.append(temp1)\n",
    "    bottoms.append(temp2)"
   ]
  },
  {
   "cell_type": "code",
   "execution_count": null,
   "metadata": {},
   "outputs": [],
   "source": []
  },
  {
   "cell_type": "code",
   "execution_count": 4,
   "metadata": {},
   "outputs": [
    {
     "name": "stdout",
     "output_type": "stream",
     "text": [
      "1.016   1.055   1.141\n",
      "1.085   1.104   1.153\n",
      "1.119   1.127   1.156\n",
      "1.017   1.184   1.556\n",
      "1.164   1.278   1.569\n",
      "1.374   1.422   1.591\n",
      "1.017   1.406   2.274\n",
      "1.191   1.493   2.266\n",
      "1.572   1.726   2.268\n",
      "\n",
      "0.834   0.875   0.964\n",
      "0.156   0.183   0.253\n",
      "0.054   0.077   0.156\n",
      "0.968   1.141   1.526\n",
      "0.693   0.856   1.274\n",
      "0.344   0.476   0.938\n",
      "0.996   1.398   2.296\n",
      "0.950   1.382   2.491\n",
      "0.822   1.245   2.725\n"
     ]
    }
   ],
   "source": [
    "for i in range(len(u0)):\n",
    "    print('%.3f'%tops[i][0],' ','%.3f'%tops[i][1],' ','%.3f'%tops[i][2])\n",
    "print()\n",
    "for i in range(len(u0)):\n",
    "    print('%.3f'%bottoms[i][0],' ','%.3f'%bottoms[i][1],' ','%.3f'%bottoms[i][2])"
   ]
  },
  {
   "cell_type": "code",
   "execution_count": 8,
   "metadata": {},
   "outputs": [
    {
     "name": "stdout",
     "output_type": "stream",
     "text": [
      "22.4 µs ± 824 ns per loop (mean ± std. dev. of 7 runs, 10000 loops each)\n"
     ]
    }
   ],
   "source": [
    "n = 200\n",
    "tau = np.ones(n)\n",
    "w0 = np.ones(n)*.999999999\n",
    "rsfc = .25\n",
    "u0 = 0.4\n",
    "\n",
    "%timeit radtran.two_stream(tau,w0,u0,rsfc)"
   ]
  },
  {
   "cell_type": "code",
   "execution_count": 9,
   "metadata": {},
   "outputs": [
    {
     "name": "stdout",
     "output_type": "stream",
     "text": [
      "24.2 µs ± 65.2 ns per loop (mean ± std. dev. of 7 runs, 10000 loops each)\n"
     ]
    }
   ],
   "source": [
    "%timeit radtran1.two_stream(tau,w0,u0,rsfc)"
   ]
  },
  {
   "cell_type": "code",
   "execution_count": null,
   "metadata": {},
   "outputs": [],
   "source": []
  }
 ],
 "metadata": {
  "kernelspec": {
   "display_name": "Python 3",
   "language": "python",
   "name": "python3"
  },
  "language_info": {
   "codemirror_mode": {
    "name": "ipython",
    "version": 3
   },
   "file_extension": ".py",
   "mimetype": "text/x-python",
   "name": "python",
   "nbconvert_exporter": "python",
   "pygments_lexer": "ipython3",
   "version": "3.8.5"
  }
 },
 "nbformat": 4,
 "nbformat_minor": 4
}
